{
 "cells": [
  {
   "cell_type": "code",
   "execution_count": 11,
   "id": "00bfc05e",
   "metadata": {},
   "outputs": [],
   "source": [
    "# Importing libraries\n",
    "\n",
    "import pandas as pd"
   ]
  },
  {
   "cell_type": "code",
   "execution_count": 12,
   "id": "a5ae5a59",
   "metadata": {},
   "outputs": [
    {
     "data": {
      "text/html": [
       "<div>\n",
       "<style scoped>\n",
       "    .dataframe tbody tr th:only-of-type {\n",
       "        vertical-align: middle;\n",
       "    }\n",
       "\n",
       "    .dataframe tbody tr th {\n",
       "        vertical-align: top;\n",
       "    }\n",
       "\n",
       "    .dataframe thead th {\n",
       "        text-align: right;\n",
       "    }\n",
       "</style>\n",
       "<table border=\"1\" class=\"dataframe\">\n",
       "  <thead>\n",
       "    <tr style=\"text-align: right;\">\n",
       "      <th></th>\n",
       "      <th>primary_entities</th>\n",
       "      <th>secondary_entities</th>\n",
       "      <th>answer</th>\n",
       "      <th>question</th>\n",
       "      <th>unique_intents</th>\n",
       "    </tr>\n",
       "  </thead>\n",
       "  <tbody>\n",
       "    <tr>\n",
       "      <th>0</th>\n",
       "      <td>admission requirements</td>\n",
       "      <td>application process</td>\n",
       "      <td>\"Please submit the following required document...</td>\n",
       "      <td>What are the admission requirements and how do...</td>\n",
       "      <td>admissionrequirementsapplicationprocess</td>\n",
       "    </tr>\n",
       "    <tr>\n",
       "      <th>1</th>\n",
       "      <td>programs curriculum</td>\n",
       "      <td>research opportunities</td>\n",
       "      <td>\"Please send student program curriculum via we...</td>\n",
       "      <td>What are the program's curriculum and research...</td>\n",
       "      <td>programscurriculumresearchopportunities</td>\n",
       "    </tr>\n",
       "    <tr>\n",
       "      <th>2</th>\n",
       "      <td>cost of the program</td>\n",
       "      <td>scholarships financial aid options</td>\n",
       "      <td>\"The STEM Fellows Scholarship is awarded to qu...</td>\n",
       "      <td>What is the cost of the program, and are there...</td>\n",
       "      <td>costoftheprogramscholarshipsfinancialaidoptions</td>\n",
       "    </tr>\n",
       "    <tr>\n",
       "      <th>3</th>\n",
       "      <td>application deadline</td>\n",
       "      <td>admission team</td>\n",
       "      <td>\"For the Fall 2023 semester, our priority dead...</td>\n",
       "      <td>What is the application deadline, and when can...</td>\n",
       "      <td>applicationdeadlineadmissionteam</td>\n",
       "    </tr>\n",
       "    <tr>\n",
       "      <th>4</th>\n",
       "      <td>acceptance rate</td>\n",
       "      <td>program</td>\n",
       "      <td>\"Some of our STEM programs do have pre-requisi...</td>\n",
       "      <td>What is the acceptance rate for the program, a...</td>\n",
       "      <td>acceptancerateprogram</td>\n",
       "    </tr>\n",
       "  </tbody>\n",
       "</table>\n",
       "</div>"
      ],
      "text/plain": [
       "         primary_entities                  secondary_entities  \\\n",
       "0  admission requirements                 application process   \n",
       "1     programs curriculum              research opportunities   \n",
       "2     cost of the program  scholarships financial aid options   \n",
       "3    application deadline                      admission team   \n",
       "4         acceptance rate                             program   \n",
       "\n",
       "                                              answer  \\\n",
       "0  \"Please submit the following required document...   \n",
       "1  \"Please send student program curriculum via we...   \n",
       "2  \"The STEM Fellows Scholarship is awarded to qu...   \n",
       "3  \"For the Fall 2023 semester, our priority dead...   \n",
       "4  \"Some of our STEM programs do have pre-requisi...   \n",
       "\n",
       "                                            question  \\\n",
       "0  What are the admission requirements and how do...   \n",
       "1  What are the program's curriculum and research...   \n",
       "2  What is the cost of the program, and are there...   \n",
       "3  What is the application deadline, and when can...   \n",
       "4  What is the acceptance rate for the program, a...   \n",
       "\n",
       "                                    unique_intents  \n",
       "0          admissionrequirementsapplicationprocess  \n",
       "1          programscurriculumresearchopportunities  \n",
       "2  costoftheprogramscholarshipsfinancialaidoptions  \n",
       "3                 applicationdeadlineadmissionteam  \n",
       "4                            acceptancerateprogram  "
      ]
     },
     "execution_count": 12,
     "metadata": {},
     "output_type": "execute_result"
    }
   ],
   "source": [
    "# Reading the master spreadsheet\n",
    "\n",
    "df = pd.read_csv(\"masters_spreadsheet_with_unique_intent_version3.csv\")\n",
    "df.head()"
   ]
  },
  {
   "cell_type": "code",
   "execution_count": 13,
   "id": "9a05ad0d",
   "metadata": {},
   "outputs": [
    {
     "data": {
      "text/plain": [
       "143"
      ]
     },
     "execution_count": 13,
     "metadata": {},
     "output_type": "execute_result"
    }
   ],
   "source": [
    "len(df)"
   ]
  },
  {
   "cell_type": "code",
   "execution_count": 14,
   "id": "614c1615",
   "metadata": {},
   "outputs": [],
   "source": [
    "# Function to generate stories.yml file for each row\n",
    "\n",
    "def generate_stories_yaml_row(unique_intents):\n",
    "    yml_content = (\n",
    "        f\"- story: {unique_intents}\\n\"\n",
    "        f\"  steps:\\n\"\n",
    "        f\"  - intent: {unique_intents}\\n\"\n",
    "        f\"  - action: utter_{unique_intents}\\n\"\n",
    "    )\n",
    "    return yml_content\n",
    "\n",
    "# Convert unique intents to YAML format\n",
    "yml_content = \"\\n\".join(df.apply(lambda row: generate_stories_yaml_row(row[\"unique_intents\"]), axis=1))\n",
    "\n",
    "# Save the YAML content to a file\n",
    "with open(\"stories.yml\", \"w\") as file:\n",
    "    file.write(yml_content)"
   ]
  },
  {
   "cell_type": "code",
   "execution_count": 15,
   "id": "c2366f88",
   "metadata": {},
   "outputs": [],
   "source": [
    "# Functions to generate domain.yml file for each row\n",
    "\n",
    "# Function to generate intents section in YAML format\n",
    "def generate_intents_section(df):\n",
    "    #intents = \"\\n  - \".join(df['unique_intents'])\n",
    "    intents = \"\\n- \".join(df['unique_intents'])\n",
    "    return f\"intents:\\n- {intents}\\n\\n\"\n",
    "\n",
    "# Function to generate actions section in YAML format\n",
    "def generate_actions_section(df):\n",
    "    actions = \"\\n- \".join([f\"utter_{intent}\" for intent in df['unique_intents']])\n",
    "    return f\"actions:\\n- {actions}\\n\\n\"\n",
    "\n",
    "# Function to generate responses section in YAML format\n",
    "def generate_responses_section(df):\n",
    "    responses = \"responses:\\n\"\n",
    "    for _, row in df.iterrows():\n",
    "        responses += f\"  utter_{row['unique_intents']}:\\n  - text: {row['answer']}\\n\\n\"\n",
    "    return responses\n",
    "\n",
    "# Generate YAML content\n",
    "yml_content = generate_intents_section(df)\n",
    "yml_content += generate_actions_section(df)\n",
    "yml_content += generate_responses_section(df)\n",
    "\n",
    "# Save the YAML content to a file\n",
    "with open(\"domain.yml\", \"w\") as file:\n",
    "    file.write(yml_content)"
   ]
  }
 ],
 "metadata": {
  "kernelspec": {
   "display_name": "Python 3 (ipykernel)",
   "language": "python",
   "name": "python3"
  },
  "language_info": {
   "codemirror_mode": {
    "name": "ipython",
    "version": 3
   },
   "file_extension": ".py",
   "mimetype": "text/x-python",
   "name": "python",
   "nbconvert_exporter": "python",
   "pygments_lexer": "ipython3",
   "version": "3.9.16"
  }
 },
 "nbformat": 4,
 "nbformat_minor": 5
}
