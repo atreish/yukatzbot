{
  "nbformat": 4,
  "nbformat_minor": 0,
  "metadata": {
    "colab": {
      "provenance": []
    },
    "kernelspec": {
      "name": "python3",
      "display_name": "Python 3"
    },
    "language_info": {
      "name": "python"
    }
  },
  "cells": [
    {
      "cell_type": "code",
      "execution_count": null,
      "metadata": {
        "id": "0UNPfXKiKnFo"
      },
      "outputs": [],
      "source": [
        "import pandas as pd\n",
        "import os\n",
        "import openai\n",
        "import requests\n",
        "import re\n",
        "from dotenv import load_dotenv, find_dotenv\n",
        "_ = load_dotenv(find_dotenv()) # read local .env file"
      ]
    },
    {
      "cell_type": "code",
      "source": [
        "def get_completion_from_messages(messages,\n",
        "                                 model=\"gpt-3.5-turbo\",\n",
        "                                 temperature=0,\n",
        "                                 max_tokens=500):\n",
        "    response = openai.ChatCompletion.create(\n",
        "        model=model,\n",
        "        messages=messages,\n",
        "        temperature=temperature,\n",
        "        max_tokens=max_tokens,\n",
        "    )\n",
        "    return response.choices[0].message[\"content\"]"
      ],
      "metadata": {
        "id": "KFDZFLAMK4O9"
      },
      "execution_count": null,
      "outputs": []
    },
    {
      "cell_type": "code",
      "source": [
        "unsuccessful=[]\n",
        "sentences=[]\n",
        "delimiter = \"####\"\n",
        "# GitHub folder URL\n",
        "github_folder_url = 'https://github.com/atreish/yukatzbot/tree/main/Text%20data'\n",
        "\n",
        "# Fetch the list of text files from the GitHub folder\n",
        "response = requests.get(github_folder_url)\n",
        "response.raise_for_status()\n",
        "folder_contents = response.text\n",
        "\n",
        "# Extract the filenames\n",
        "file_names = re.findall(r'(?<=href=\"/atreish/yukatzbot/blob/main/Text%20data/).*?\\.txt', folder_contents)\n",
        "\n",
        "# Process each text file\n",
        "for file_name in file_names:\n",
        "    # Download the text file content\n",
        "    raw_file_url = f'https://raw.githubusercontent.com/atreish/yukatzbot/main/Text%20data/{file_name}'\n",
        "    response = requests.get(raw_file_url)\n",
        "    response.raise_for_status()\n",
        "    text_content = response.text\n",
        "\n",
        "    user_message_1 = f\"\"\"\n",
        "    What are some 10 questions that can be answered with the above text in system message? What are corresponding 10 answers for these questions? \"\"\"\n",
        "    messages =  [\n",
        "{'role':'system',\n",
        " 'content': text_content},\n",
        "{'role':'user',\n",
        " 'content': f\"{delimiter}{user_message_1}{delimiter}\"},\n",
        "]\n",
        "    try:\n",
        "        category_and_product_respons = get_completion_from_messages(messages)\n",
        "        sentences.extend(category_and_product_respons.split('\\n'))\n",
        "\n",
        "    except openai.OpenAIError as e:\n",
        "        # Handle the OpenAIError exception\n",
        "        unsuccessful.append(text_content)\n",
        "        # Additional error handling code if needed"
      ],
      "metadata": {
        "id": "nF_Wekn8LEvF"
      },
      "execution_count": null,
      "outputs": []
    },
    {
      "cell_type": "code",
      "source": [
        "len(sentences)"
      ],
      "metadata": {
        "id": "i5W_2j4mK-R0"
      },
      "execution_count": null,
      "outputs": []
    },
    {
      "cell_type": "code",
      "source": [
        "sentences=list(filter(lambda x: x!='I can provide five questions and their corresponding answers based on the above text:',sentences))"
      ],
      "metadata": {
        "id": "HM2RAIQhP1nA"
      },
      "execution_count": null,
      "outputs": []
    },
    {
      "cell_type": "code",
      "source": [
        "sentences=list(filter(lambda x: x!=\"I'm sorry, as an AI language model, I cannot provide a list of 10 questions and their corresponding answers without any context. Could you please provide more information or specify the questions you would like me to answer?\",sentences))"
      ],
      "metadata": {
        "id": "epLQSCfBP5oo"
      },
      "execution_count": null,
      "outputs": []
    },
    {
      "cell_type": "code",
      "source": [
        "sentences=list(filter(lambda x: x!='',sentences))"
      ],
      "metadata": {
        "colab": {
          "base_uri": "https://localhost:8080/"
        },
        "id": "n2JPI34aP97_",
        "outputId": "976679aa-6962-4ea0-9cc1-43a411817c36"
      },
      "execution_count": null,
      "outputs": [
        {
          "output_type": "stream",
          "name": "stderr",
          "text": [
            "<ipython-input-53-dafbd3c9932e>:1: SettingWithCopyWarning: \n",
            "A value is trying to be set on a copy of a slice from a DataFrame.\n",
            "Try using .loc[row_indexer,col_indexer] = value instead\n",
            "\n",
            "See the caveats in the documentation: https://pandas.pydata.org/pandas-docs/stable/user_guide/indexing.html#returning-a-view-versus-a-copy\n",
            "  df2['question']=df2['question'].apply(lambda x: re.sub(r'(Question)*\\s+\\d+:','',x))\n"
          ]
        }
      ]
    },
    {
      "cell_type": "code",
      "source": [
        "df=pd.DataFrame(columns=['question','answer'])"
      ],
      "metadata": {
        "colab": {
          "base_uri": "https://localhost:8080/"
        },
        "id": "O0aZoF83T6GW",
        "outputId": "4ee0f9f6-9095-454f-f198-2bda9723ab24"
      },
      "execution_count": null,
      "outputs": [
        {
          "output_type": "stream",
          "name": "stderr",
          "text": [
            "<ipython-input-61-3022c8a19c3d>:1: SettingWithCopyWarning: \n",
            "A value is trying to be set on a copy of a slice from a DataFrame.\n",
            "Try using .loc[row_indexer,col_indexer] = value instead\n",
            "\n",
            "See the caveats in the documentation: https://pandas.pydata.org/pandas-docs/stable/user_guide/indexing.html#returning-a-view-versus-a-copy\n",
            "  df2['question']=df2['question'].apply(lambda x: re.sub(r'Question','',x))\n"
          ]
        }
      ]
    },
    {
      "cell_type": "code",
      "source": [
        "for i in range(0,len(sentences),2) :\n",
        "    df.loc[len(df)]={\n",
        "        'question':sentences[i],\n",
        "          'answer':sentences[i+1],\n",
        "\n",
        "    }"
      ],
      "metadata": {
        "colab": {
          "base_uri": "https://localhost:8080/"
        },
        "id": "Q2bkdMePTTSQ",
        "outputId": "e1c53044-4be8-4850-bfa7-893146861b11"
      },
      "execution_count": null,
      "outputs": [
        {
          "output_type": "stream",
          "name": "stderr",
          "text": [
            "<ipython-input-54-e3d18d911fb2>:1: SettingWithCopyWarning: \n",
            "A value is trying to be set on a copy of a slice from a DataFrame.\n",
            "Try using .loc[row_indexer,col_indexer] = value instead\n",
            "\n",
            "See the caveats in the documentation: https://pandas.pydata.org/pandas-docs/stable/user_guide/indexing.html#returning-a-view-versus-a-copy\n",
            "  df2['answer']=df2['answer'].apply(lambda x: re.sub(r'(Answer)*\\s+\\d+:','',x))\n"
          ]
        }
      ]
    },
    {
      "cell_type": "code",
      "source": [
        "df['answer']=df['answer'].apply(lambda x: re.sub(r'Answer: ','',x))"
      ],
      "metadata": {
        "id": "IoTTGTMLTI0v"
      },
      "execution_count": null,
      "outputs": []
    },
    {
      "cell_type": "code",
      "source": [
        "df['question']=df['question'].apply(lambda x: re.sub(r'\\d+\\.\\s','',x))"
      ],
      "metadata": {
        "id": "xaKqEm1bVvhM"
      },
      "execution_count": null,
      "outputs": []
    },
    {
      "cell_type": "code",
      "source": [
        "df['answer']=df['answer'].apply(lambda x: re.sub(r'^\\d+\\.\\s*','',x))"
      ],
      "metadata": {
        "colab": {
          "base_uri": "https://localhost:8080/"
        },
        "id": "VyuQbRczVzoT",
        "outputId": "c13747f4-9b38-480b-d2f3-ffe451c79120"
      },
      "execution_count": null,
      "outputs": [
        {
          "output_type": "stream",
          "name": "stderr",
          "text": [
            "<ipython-input-69-fea8bc8f5d90>:1: SettingWithCopyWarning: \n",
            "A value is trying to be set on a copy of a slice from a DataFrame.\n",
            "Try using .loc[row_indexer,col_indexer] = value instead\n",
            "\n",
            "See the caveats in the documentation: https://pandas.pydata.org/pandas-docs/stable/user_guide/indexing.html#returning-a-view-versus-a-copy\n",
            "  df2['answer']=df2['answer'].apply(lambda x: re.sub(r'\\d+.','',x))\n"
          ]
        }
      ]
    },
    {
      "cell_type": "code",
      "source": [
        "df2['question']=df2['question'].apply(lambda x: re.sub(r'Q:','',x))"
      ],
      "metadata": {
        "colab": {
          "base_uri": "https://localhost:8080/"
        },
        "id": "RMlFUm2SS4f1",
        "outputId": "c9f52810-30c1-4202-de11-9425ee18cc85"
      },
      "execution_count": null,
      "outputs": [
        {
          "output_type": "stream",
          "name": "stderr",
          "text": [
            "<ipython-input-55-f1dc7e79338b>:1: SettingWithCopyWarning: \n",
            "A value is trying to be set on a copy of a slice from a DataFrame.\n",
            "Try using .loc[row_indexer,col_indexer] = value instead\n",
            "\n",
            "See the caveats in the documentation: https://pandas.pydata.org/pandas-docs/stable/user_guide/indexing.html#returning-a-view-versus-a-copy\n",
            "  df2['question']=df2['question'].apply(lambda x: re.sub(r'Q:','',x))\n"
          ]
        }
      ]
    },
    {
      "cell_type": "code",
      "source": [
        "df2['answer']=df2['answer'].apply(lambda x: re.sub(r'Answer:','',x))"
      ],
      "metadata": {
        "colab": {
          "base_uri": "https://localhost:8080/"
        },
        "id": "rDJUtkrOTZFl",
        "outputId": "fbef4776-37e0-4499-8460-dd873a94af7c"
      },
      "execution_count": null,
      "outputs": [
        {
          "output_type": "stream",
          "name": "stderr",
          "text": [
            "<ipython-input-70-d69721692162>:1: SettingWithCopyWarning: \n",
            "A value is trying to be set on a copy of a slice from a DataFrame.\n",
            "Try using .loc[row_indexer,col_indexer] = value instead\n",
            "\n",
            "See the caveats in the documentation: https://pandas.pydata.org/pandas-docs/stable/user_guide/indexing.html#returning-a-view-versus-a-copy\n",
            "  df2['answer']=df2['answer'].apply(lambda x: re.sub(r'Answer:','',x))\n"
          ]
        }
      ]
    },
    {
      "cell_type": "code",
      "source": [
        "df.to_csv('questions_answers_cleaned.csv', index=False)"
      ],
      "metadata": {
        "id": "kAzLMhMiUvki"
      },
      "execution_count": null,
      "outputs": []
    }
  ]
}