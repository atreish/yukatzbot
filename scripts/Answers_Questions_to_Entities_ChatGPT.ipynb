{
 "cells": [
  {
   "cell_type": "code",
   "execution_count": null,
   "id": "ad531b19",
   "metadata": {
    "height": 132
   },
   "outputs": [],
   "source": [
    "# Importing librariesd and loading openAI API key\n",
    "\n",
    "import pandas as pd\n",
    "import os\n",
    "import openai\n",
    "from dotenv import load_dotenv, find_dotenv\n",
    "_ = load_dotenv(find_dotenv()) # read local .env file\n",
    "\n",
    "openai.api_key  = os.environ['OPENAI_API_KEY']"
   ]
  },
  {
   "cell_type": "code",
   "execution_count": null,
   "id": "e286a785",
   "metadata": {
    "height": 200
   },
   "outputs": [],
   "source": [
    "# Function to get the response from ChatGPT through API key\n",
    "\n",
    "def get_completion_from_messages(messages, \n",
    "                                 model=\"gpt-3.5-turbo\", \n",
    "                                 temperature=0, \n",
    "                                 max_tokens=1000):\n",
    "    response = openai.ChatCompletion.create(\n",
    "        model=model,\n",
    "        messages=messages,\n",
    "        temperature=temperature, \n",
    "        max_tokens=max_tokens, \n",
    "    )\n",
    "    return response.choices[0].message[\"content\"]"
   ]
  },
  {
   "cell_type": "code",
   "execution_count": null,
   "id": "8c3f735e",
   "metadata": {
    "height": 216
   },
   "outputs": [],
   "source": [
    "# Sample to check the entity extraction\n",
    "\n",
    "messages =  [  \n",
    "{'role':'system', \n",
    " 'content':\"\"\"You are an helpful assistant who\\\n",
    " performs entity extraction. your answer should be just entity names, with nothing else\"\"\"},    \n",
    "{'role':'user', \n",
    " 'content':\"\"\"Extract entity names from this question statement - Is the GRE or GMAT required for all Katz School graduate STEM programs?\"\"\"},  \n",
    "] \n",
    "response = get_completion_from_messages(messages)\n",
    "print(response)"
   ]
  },
  {
   "cell_type": "code",
   "execution_count": null,
   "id": "9d441080",
   "metadata": {
    "height": 63
   },
   "outputs": [],
   "source": [
    "# Reading the question and answers data extracted earlier from chatGPT\n",
    "\n",
    "df = pd.read_csv(\"https://raw.githubusercontent.com/atreish/yukatzbot/main/tests/questions_answers_cleaned%20.csv\")\n",
    "df"
   ]
  },
  {
   "cell_type": "code",
   "execution_count": null,
   "id": "3c2069d6",
   "metadata": {
    "height": 30
   },
   "outputs": [],
   "source": [
    "# Checking the column 'question'\n",
    "\n",
    "df['question']"
   ]
  },
  {
   "cell_type": "code",
   "execution_count": null,
   "id": "36cff0cd",
   "metadata": {
    "height": 183
   },
   "outputs": [],
   "source": [
    "# Function to extract entities from question\n",
    "def ent_extract(i):\n",
    "    \"\"\"\n",
    "    This function takes question statement from the dataframe of question and answers and return entities\n",
    "    \"\"\"\n",
    "    messages =  [  \n",
    "    {'role':'system', \n",
    "     'content':\"\"\"You are an helpful assistant who\\\n",
    "     performs entity extraction. your answer should be just entity names, with nothing else\"\"\"},    \n",
    "    {'role':'user', \n",
    "     'content':\"\"\"Extract entity names from this question statement -{} \"\"\".format(i)},  \n",
    "    ] \n",
    "    response = get_completion_from_messages(messages)\n",
    "    return response"
   ]
  },
  {
   "cell_type": "markdown",
   "id": "593c1a4f",
   "metadata": {},
   "source": [
    "In the following code blocks, we are extracting entities for 100 question statements at a time due to avoid the failure of API calls"
   ]
  },
  {
   "cell_type": "code",
   "execution_count": null,
   "id": "e14314f5",
   "metadata": {
    "height": 30
   },
   "outputs": [],
   "source": [
    "entities1 = [ent_extract(i) for i in df[:100]['question']]"
   ]
  },
  {
   "cell_type": "code",
   "execution_count": null,
   "id": "a8a6ac8e",
   "metadata": {
    "height": 30
   },
   "outputs": [],
   "source": [
    "entities2 = [ent_extract(i) for i in df[100:200]['question']]"
   ]
  },
  {
   "cell_type": "code",
   "execution_count": null,
   "id": "74090331",
   "metadata": {
    "height": 30
   },
   "outputs": [],
   "source": [
    "entities3 = [ent_extract(i) for i in df[200:300]['question']]"
   ]
  },
  {
   "cell_type": "code",
   "execution_count": null,
   "id": "00a6ef3b",
   "metadata": {
    "height": 30
   },
   "outputs": [],
   "source": [
    "entities4 = [ent_extract(i) for i in df[300:400]['question']]"
   ]
  },
  {
   "cell_type": "code",
   "execution_count": null,
   "id": "977e2fc3",
   "metadata": {},
   "outputs": [],
   "source": [
    "# Storing all the entities for the first 400 questions in a list and saving it as a .txt file\n",
    "\n",
    "entitis_0_400 = entities1+entities2+entities3+entities4\n",
    "entities_0_400"
   ]
  },
  {
   "cell_type": "code",
   "execution_count": null,
   "id": "949f4a19",
   "metadata": {
    "height": 30
   },
   "outputs": [],
   "source": [
    "entities5 = [ent_extract(i) for i in df[400:500]['question']]"
   ]
  },
  {
   "cell_type": "code",
   "execution_count": null,
   "id": "2c72b51d",
   "metadata": {
    "height": 30
   },
   "outputs": [],
   "source": [
    "entities6 = [ent_extract(i) for i in df[500:600]['question']]"
   ]
  },
  {
   "cell_type": "code",
   "execution_count": null,
   "id": "fb67f546",
   "metadata": {
    "height": 30
   },
   "outputs": [],
   "source": [
    "entities7 = [ent_extract(i) for i in df[600:700]['question']]"
   ]
  },
  {
   "cell_type": "code",
   "execution_count": null,
   "id": "5f7e3eb2",
   "metadata": {
    "height": 30
   },
   "outputs": [],
   "source": [
    "entities8 = [ent_extract(i) for i in df[700:800]['question']]"
   ]
  },
  {
   "cell_type": "code",
   "execution_count": null,
   "id": "4439f0e5",
   "metadata": {
    "height": 30
   },
   "outputs": [],
   "source": [
    "entities9 = [ent_extract(i) for i in df[800:900]['question']]"
   ]
  },
  {
   "cell_type": "code",
   "execution_count": null,
   "id": "abc5ea21",
   "metadata": {
    "height": 30
   },
   "outputs": [],
   "source": [
    "entities10 = [ent_extract(i) for i in df[900:1000]['question']]"
   ]
  },
  {
   "cell_type": "code",
   "execution_count": null,
   "id": "c2d1d9ab",
   "metadata": {
    "height": 30
   },
   "outputs": [],
   "source": [
    "entities11 = [ent_extract(i) for i in df[1000:1100]['question']]"
   ]
  },
  {
   "cell_type": "code",
   "execution_count": null,
   "id": "edcad8b7",
   "metadata": {
    "height": 30
   },
   "outputs": [],
   "source": [
    "entities12 = [ent_extract(i) for i in df[1100:1200]['question']]"
   ]
  },
  {
   "cell_type": "code",
   "execution_count": null,
   "id": "e0c78b39",
   "metadata": {
    "height": 30
   },
   "outputs": [],
   "source": [
    "entities13 = [ent_extract(i) for i in df[1200:1328]['question']]"
   ]
  },
  {
   "cell_type": "code",
   "execution_count": null,
   "id": "def9dd9a",
   "metadata": {
    "height": 46
   },
   "outputs": [],
   "source": [
    "# Storing all the entities for the later 928 questions in a list and saving it as a .txt file\n",
    "\n",
    "entities_400_1327 = entities5+entities6+entities7+entities8+entities9+entities10+entities11+entities12+entities13\n",
    "entities_400_1327"
   ]
  }
 ],
 "metadata": {
  "kernelspec": {
   "display_name": "Python 3 (ipykernel)",
   "language": "python",
   "name": "python3"
  },
  "language_info": {
   "codemirror_mode": {
    "name": "ipython",
    "version": 3
   },
   "file_extension": ".py",
   "mimetype": "text/x-python",
   "name": "python",
   "nbconvert_exporter": "python",
   "pygments_lexer": "ipython3",
   "version": "3.10.9"
  }
 },
 "nbformat": 4,
 "nbformat_minor": 5
}
