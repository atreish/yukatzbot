{
  "cells": [
    {
      "cell_type": "code",
      "execution_count": null,
      "metadata": {
        "id": "0UNPfXKiKnFo"
      },
      "outputs": [],
      "source": [
        "import pandas as pd\n",
        "import os\n",
        "import openai\n",
        "import requests\n",
        "import re\n",
        "import json\n",
        "openai.api_key = ''"
      ]
    },
    {
      "cell_type": "code",
      "execution_count": null,
      "metadata": {
        "colab": {
          "base_uri": "https://localhost:8080/"
        },
        "id": "sFjTM2BUosjC",
        "outputId": "5563edfc-5d35-4d85-ac16-420eb1e0d802"
      },
      "outputs": [
        {
          "output_type": "stream",
          "name": "stdout",
          "text": [
            "Collecting openai\n",
            "  Downloading openai-0.27.8-py3-none-any.whl (73 kB)\n",
            "\u001b[?25l     \u001b[90m━━━━━━━━━━━━━━━━━━━━━━━━━━━━━━━━━━━━━━━━\u001b[0m \u001b[32m0.0/73.6 kB\u001b[0m \u001b[31m?\u001b[0m eta \u001b[36m-:--:--\u001b[0m\r\u001b[2K     \u001b[90m━━━━━━━━━━━━━━━━━━━━━━━━━━━━━━━━━━━━━━━━\u001b[0m \u001b[32m73.6/73.6 kB\u001b[0m \u001b[31m2.1 MB/s\u001b[0m eta \u001b[36m0:00:00\u001b[0m\n",
            "\u001b[?25hRequirement already satisfied: requests>=2.20 in /usr/local/lib/python3.10/dist-packages (from openai) (2.27.1)\n",
            "Requirement already satisfied: tqdm in /usr/local/lib/python3.10/dist-packages (from openai) (4.65.0)\n",
            "Requirement already satisfied: aiohttp in /usr/local/lib/python3.10/dist-packages (from openai) (3.8.4)\n",
            "Requirement already satisfied: urllib3<1.27,>=1.21.1 in /usr/local/lib/python3.10/dist-packages (from requests>=2.20->openai) (1.26.16)\n",
            "Requirement already satisfied: certifi>=2017.4.17 in /usr/local/lib/python3.10/dist-packages (from requests>=2.20->openai) (2023.5.7)\n",
            "Requirement already satisfied: charset-normalizer~=2.0.0 in /usr/local/lib/python3.10/dist-packages (from requests>=2.20->openai) (2.0.12)\n",
            "Requirement already satisfied: idna<4,>=2.5 in /usr/local/lib/python3.10/dist-packages (from requests>=2.20->openai) (3.4)\n",
            "Requirement already satisfied: attrs>=17.3.0 in /usr/local/lib/python3.10/dist-packages (from aiohttp->openai) (23.1.0)\n",
            "Requirement already satisfied: multidict<7.0,>=4.5 in /usr/local/lib/python3.10/dist-packages (from aiohttp->openai) (6.0.4)\n",
            "Requirement already satisfied: async-timeout<5.0,>=4.0.0a3 in /usr/local/lib/python3.10/dist-packages (from aiohttp->openai) (4.0.2)\n",
            "Requirement already satisfied: yarl<2.0,>=1.0 in /usr/local/lib/python3.10/dist-packages (from aiohttp->openai) (1.9.2)\n",
            "Requirement already satisfied: frozenlist>=1.1.1 in /usr/local/lib/python3.10/dist-packages (from aiohttp->openai) (1.4.0)\n",
            "Requirement already satisfied: aiosignal>=1.1.2 in /usr/local/lib/python3.10/dist-packages (from aiohttp->openai) (1.3.1)\n",
            "Installing collected packages: openai\n",
            "Successfully installed openai-0.27.8\n"
          ]
        }
      ],
      "source": [
        "!pip install openai\n"
      ]
    },
    {
      "cell_type": "code",
      "execution_count": null,
      "metadata": {
        "id": "KFDZFLAMK4O9"
      },
      "outputs": [],
      "source": [
        "def get_completion_from_messages(messages,\n",
        "                                 model=\"gpt-3.5-turbo\",\n",
        "                                 temperature=0,\n",
        "                                 max_tokens=500):\n",
        "    response = openai.ChatCompletion.create(\n",
        "        model=model,\n",
        "        messages=messages,\n",
        "        temperature=temperature,\n",
        "        max_tokens=max_tokens,\n",
        "    )\n",
        "    return response.choices[0].message[\"content\"]"
      ]
    },
    {
      "cell_type": "code",
      "execution_count": null,
      "metadata": {
        "colab": {
          "base_uri": "https://localhost:8080/"
        },
        "id": "ytT52O-4p44E",
        "outputId": "12b0b4fe-c8bd-4bc2-e712-643dc91d7ddd"
      },
      "outputs": [
        {
          "output_type": "stream",
          "name": "stdout",
          "text": [
            "['ai.txt', 'biotech.txt', 'cyber.txt', 'data-analytics.txt', 'digital-marketing-media.txt', 'math-ma.txt', 'math-phd.txt', 'occupational-therapy.txt', 'physician-assistant.txt', 'physics.txt', 'slp.txt']\n"
          ]
        }
      ],
      "source": [
        "\n",
        "import requests\n",
        "\n",
        "def get_github_folder_contents(github_folder_url):\n",
        "    # Extract the owner, repository, and folder path from the given URL\n",
        "    parts = github_folder_url.split('/')\n",
        "    owner = parts[3]\n",
        "    repo = parts[4]\n",
        "    folder_path = '/'.join(parts[7:])\n",
        "\n",
        "    # Make a request to the GitHub API to get the contents of the folder\n",
        "    api_url = f'https://api.github.com/repos/{owner}/{repo}/contents/{folder_path}'\n",
        "    response = requests.get(api_url)\n",
        "\n",
        "    # Check for successful response\n",
        "    if response.status_code != 200:\n",
        "        raise Exception(f\"Failed to fetch contents from GitHub. Status Code: {response.status_code}\")\n",
        "\n",
        "    # Parse the JSON response\n",
        "    folder_contents = response.json()\n",
        "\n",
        "    # Extract the file names from the response\n",
        "    file_names = [item['name'] for item in folder_contents if item['type'] == 'file']\n",
        "\n",
        "    return file_names\n",
        "\n",
        "# Example usage:\n",
        "github_folder_url = 'https://github.com/atreish/yukatzbot/tree/main/Text%20data/programs%20data'\n",
        "file_names = get_github_folder_contents(github_folder_url)[0:]\n",
        "print(file_names)\n"
      ]
    },
    {
      "cell_type": "code",
      "source": [
        "text_content"
      ],
      "metadata": {
        "colab": {
          "base_uri": "https://localhost:8080/",
          "height": 226
        },
        "id": "i2tck6JVE76p",
        "outputId": "78e3977a-c163-43ff-8355-269e6a90c109"
      },
      "execution_count": null,
      "outputs": [
        {
          "output_type": "execute_result",
          "data": {
            "text/plain": [
              "'{\"payload\":{\"allShortcutsEnabled\":false,\"fileTree\":{\"Text data/faculty data\":{\"items\":[{\"name\":\"ai.txt\",\"path\":\"Text data/faculty data/ai.txt\",\"contentType\":\"file\"},{\"name\":\"bme.txt\",\"path\":\"Text data/faculty data/bme.txt\",\"contentType\":\"file\"},{\"name\":\"mathematics.txt\",\"path\":\"Text data/faculty data/mathematics.txt\",\"contentType\":\"file\"},{\"name\":\"ot.txt\",\"path\":\"Text data/faculty data/ot.txt\",\"contentType\":\"file\"},{\"name\":\"pas.txt\",\"path\":\"Text data/faculty data/pas.txt\",\"contentType\":\"file\"},{\"name\":\"physics.txt\",\"path\":\"Text data/faculty data/physics.txt\",\"contentType\":\"file\"},{\"name\":\"slp.txt\",\"path\":\"Text data/faculty data/slp.txt\",\"contentType\":\"file\"}],\"totalCount\":7},\"Text data\":{\"items\":[{\"name\":\"faculty data\",\"path\":\"Text data/faculty data\",\"contentType\":\"directory\"},{\"name\":\"programs data\",\"path\":\"Text data/programs data\",\"contentType\":\"directory\"},{\"name\":\".DS_Store\",\"path\":\"Text data/.DS_Store\",\"contentType\":\"file\"},{\"name\":\"Abraham Oxilas.txt\",\"path\":\"Text data/Abraham Oxilas.txt\",\"contentType\":\"file\"},{\"name\":\"Aleksandr Zhuk.txt\",\"path\":\"Text data/Aleksandr Zhuk.txt\",\"contentType\":\"file\"},{\"name\":\"Alexandra Wagner.txt\",\"path\":\"Text data/Alexandra Wagner.txt\",\"contentType\":\"file\"},{\"name\":\"Alexandra Wagner1.txt\",\"path\":\"Text data/Alexandra Wagner1.txt\",\"contentType\":\"file\"},{\"name\":\"Amarildo Gjondrekaj.txt\",\"path\":\"Text data/Amarildo Gjondrekaj.txt\",\"contentType\":\"file\"},{\"name\":\"Amit Rakhit.txt\",\"path\":\"Text data/Amit Rakhit.txt\",\"contentType\":\"file\"},{\"name\":\"Amiya Waldman-Levi.txt\",\"path\":\"Text data/Amiya Waldman-Levi.txt\",\"contentType\":\"file\"},{\"name\":\"Amiya Waldman-Levi1.txt\",\"path\":\"Text data/Amiya Waldman-Levi1.txt\",\"contentType\":\"file\"},{\"name\":\"Andrew Christler.txt\",\"path\":\"Text data/Andrew Christler.txt\",\"contentType\":\"file\"},{\"name\":\"Andrew Christler1.txt\",\"path\":\"Text data/Andrew Christler1.txt\",\"contentType\":\"file\"},{\"name\":\"Andy Catlin.txt\",\"path\":\"Text data/Andy Catlin.txt\",\"contentType\":\"file\"},{\"name\":\"Antonella Marini.txt\",\"path\":\"Text data/Antonella Marini.txt\",\"contentType\":\"file\"},{\"name\":\"Antonella Marini1.txt\",\"path\":\"Text data/Antonella Marini1.txt\",\"contentType\":\"file\"},{\"name\":\"Asaf Hochman.txt\",\"path\":\"Text data/Asaf Hochman.txt\",\"contentType\":\"file\"},{\"name\":\"Atif Ghauri.txt\",\"path\":\"Text data/Atif Ghauri.txt\",\"contentType\":\"file\"},{\"name\":\"Avi Gilon.txt\",\"path\":\"Text data/Avi Gilon.txt\",\"contentType\":\"file\"},{\"name\":\"Avi Giloni.txt\",\"path\":\"Text data/Avi Giloni.txt\",\"contentType\":\"file\"},{\"name\":\"Brandon Chiazza.txt\",\"path\":\"Text data/Brandon Chiazza.txt\",\"contentType\":\"file\"},{\"name\":\"Brian Malkin.txt\",\"path\":\"Text data/Brian Malkin.txt\",\"contentType\":\"file\"},{\"name\":\"Brian Malkin1.txt\",\"path\":\"Text data/Brian Malkin1.txt\",\"contentType\":\"file\"},{\"name\":\"Brittany Palmer.txt\",\"path\":\"Text data/Brittany Palmer.txt\",\"contentType\":\"file\"},{\"name\":\"Burdin Hickok.txt\",\"path\":\"Text data/Burdin Hickok.txt\",\"contentType\":\"file\"},{\"name\":\"Christina Brennan.txt\",\"path\":\"Text data/Christina Brennan.txt\",\"contentType\":\"file\"},{\"name\":\"Daniel Davidson.txt\",\"path\":\"Text data/Daniel Davidson.txt\",\"contentType\":\"file\"},{\"name\":\"David Imre.txt\",\"path\":\"Text data/David Imre.txt\",\"contentType\":\"file\"},{\"name\":\"David Schwed.txt\",\"path\":\"Text data/David Schwed.txt\",\"contentType\":\"file\"},{\"name\":\"David Sweet.txt\",\"path\":\"Text data/David Sweet.txt\",\"contentType\":\"file\"},{\"name\":\"David Whipple.txt\",\"path\":\"Text data/David Whipple.txt\",\"contentType\":\"file\"},{\"name\":\"Dina Shapiro.txt\",\"path\":\"Text data/Dina Shapiro.txt\",\"contentType\":\"file\"},{\"name\":\"Dominique West.txt\",\"path\":\"Text data/Dominique West.txt\",\"contentType\":\"file\"},{\"name\":\"Dwayne Williams.txt\",\"path\":\"Text data/Dwayne Williams.txt\",\"contentType\":\"file\"},{\"name\":\"Dwayne Williams1.txt\",\"path\":\"Text data/Dwayne Williams1.txt\",\"contentType\":\"file\"},{\"name\":\"Dylan Mandel.txt\",\"path\":\"Text data/Dylan Mandel.txt\",\"contentType\":\"file\"},{\"name\":\"Edward Belbruno.txt\",\"path\":\"Text data/Edward Belbruno.txt\",\"contentType\":\"file\"},{\"name\":\"Edward Belbruno1.txt\",\"path\":\"Text data/Edward Belbruno1.txt\",\"contentType\":\"file\"},{\"name\":\"Elaine Zacharakis Loumbas.txt\",\"path\":\"Text data/Elaine Zacharakis Loumbas.txt\",\"contentType\":\"file\"},{\"name\":\"Elisabeth Mlawski.txt\",\"path\":\"Text data/Elisabeth Mlawski.txt\",\"contentType\":\"file\"},{\"name\":\"Elisabeth Mlawski1.txt\",\"path\":\"Text data/Elisabeth Mlawski1.txt\",\"contentType\":\"file\"},{\"name\":\"Emil Prodan.txt\",\"path\":\"Text data/Emil Prodan.txt\",\"contentType\":\"file\"},{\"name\":\"Emil Prodan1.txt\",\"path\":\"Text data/Emil Prodan1.txt\",\"contentType\":\"file\"},{\"name\":\"Esteban Wesson.txt\",\"path\":\"Text data/Esteban Wesson.txt\",\"contentType\":\"file\"},{\"name\":\"Fayrose Abodeshisha.txt\",\"path\":\"Text data/Fayrose Abodeshisha.txt\",\"contentType\":\"file\"},{\"name\":\"Fayrose Abodeshisha1.txt\",\"path\":\"Text data/Fayrose Abodeshisha1.txt\",\"contentType\":\"file\"},{\"name\":\"Fredy Zypman.txt\",\"path\":\"Text data/Fredy Zypman.txt\",\"contentType\":\"file\"},{\"name\":\"Fredy Zypman1.txt\",\"path\":\"Text data/Fredy Zypman1.txt\",\"contentType\":\"file\"},{\"name\":\"Gabriel Cwilich.txt\",\"path\":\"Text data/Gabriel Cwilich.txt\",\"contentType\":\"file\"},{\"name\":\"Gabriel Cwilich1.txt\",\"path\":\"Text data/Gabriel Cwilich1.txt\",\"contentType\":\"file\"},{\"name\":\"Gary Sztajnman.txt\",\"path\":\"Text data/Gary Sztajnman.txt\",\"contentType\":\"file\"},{\"name\":\"Herman Weiss.txt\",\"path\":\"Text data/Herman Weiss.txt\",\"contentType\":\"file\"},{\"name\":\"James Topor.txt\",\"path\":\"Text data/James Topor.txt\",\"contentType\":\"file\"},{\"name\":\"Javier Guillen.txt\",\"path\":\"Text data/Javier Guillen.txt\",\"contentType\":\"file\"},{\"name\":\"Jeff Nieman.txt\",\"path\":\"Text data/Jeff Nieman.txt\",\"contentType\":\"file\"},{\"name\":\"Jeff Vockrodt.txt\",\"path\":\"Text data/Jeff Vockrodt.txt\",\"contentType\":\"file\"},{\"name\":\"Jeff Wunderman.txt\",\"path\":\"Text data/Jeff Wunderman.txt\",\"contentType\":\"file\"},{\"name\":\"Jessica Prue Rifkind.txt\",\"path\":\"Text data/Jessica Prue Rifkind.txt\",\"contentType\":\"file\"},{\"name\":\"Joanne Tombrakos.txt\",\"path\":\"Text data/Joanne Tombrakos.txt\",\"contentType\":\"file\"},{\"name\":\"Jochen Raimann.txt\",\"path\":\"Text data/Jochen Raimann.txt\",\"contentType\":\"file\"},{\"name\":\"Joseph Panzarella.txt\",\"path\":\"Text data/Joseph Panzarella.txt\",\"contentType\":\"file\"},{\"name\":\"Joseph Weber-Lopez.txt\",\"path\":\"Text data/Joseph Weber-Lopez.txt\",\"contentType\":\"file\"},{\"name\":\"Joshua Moritz.txt\",\"path\":\"Text data/Joshua Moritz.txt\",\"contentType\":\"file\"},{\"name\":\"Joy Payton.txt\",\"path\":\"Text data/Joy Payton.txt\",\"contentType\":\"file\"},{\"name\":\"Julia Agosto.txt\",\"path\":\"Text data/Julia Agosto.txt\",\"contentType\":\"file\"},{\"name\":\"Julian Jenkins.txt\",\"path\":\"Text data/Julian Jenkins.txt\",\"contentType\":\"file\"},{\"name\":\"Laura Sylvia.txt\",\"path\":\"Text data/Laura Sylvia.txt\",\"contentType\":\"file\"},{\"name\":\"Lawrence Fulton.txt\",\"path\":\"Text data/Lawrence Fulton.txt\",\"contentType\":\"file\"},{\"name\":\"Lea Ferreira dos Santos.txt\",\"path\":\"Text data/Lea Ferreira dos Santos.txt\",\"contentType\":\"file\"},{\"name\":\"Lea Ferreira dos Santos1.txt\",\"path\":\"Text data/Lea Ferreira dos Santos1.txt\",\"contentType\":\"file\"},{\"name\":\"Lev Feldman.txt\",\"path\":\"Text data/Lev Feldman.txt\",\"contentType\":\"file\"},{\"name\":\"Lorraine Marchand.txt\",\"path\":\"Text data/Lorraine Marchand.txt\",\"contentType\":\"file\"},{\"name\":\"Marian Gidea.txt\",\"path\":\"Text data/Marian Gidea.txt\",\"contentType\":\"file\"},{\"name\":\"Marian Gidea1.txt\",\"path\":\"Text data/Marian Gidea1.txt\",\"contentType\":\"file\"},{\"name\":\"Marissa Barrera.txt\",\"path\":\"Text data/Marissa Barrera.txt\",\"contentType\":\"file\"},{\"name\":\"Marissa Barrera1.txt\",\"path\":\"Text data/Marissa Barrera1.txt\",\"contentType\":\"file\"},{\"name\":\"Mark Edelman.1txt.txt\",\"path\":\"Text data/Mark Edelman.1txt.txt\",\"contentType\":\"file\"},{\"name\":\"Mark Edelman.txt\",\"path\":\"Text data/Mark Edelman.txt\",\"contentType\":\"file\"},{\"name\":\"Michael Dalezman.txt\",\"path\":\"Text data/Michael Dalezman.txt\",\"contentType\":\"file\"},{\"name\":\"Michael Dalezman1.txt\",\"path\":\"Text data/Michael Dalezman1.txt\",\"contentType\":\"file\"},{\"name\":\"Michael Schulte.txt\",\"path\":\"Text data/Michael Schulte.txt\",\"contentType\":\"file\"},{\"name\":\"Michaela Medved.txt\",\"path\":\"Text data/Michaela Medved.txt\",\"contentType\":\"file\"},{\"name\":\"Michaela Medved1.txt\",\"path\":\"Text data/Michaela Medved1.txt\",\"contentType\":\"file\"},{\"name\":\"Mindy Garfinkel.txt\",\"path\":\"Text data/Mindy Garfinkel.txt\",\"contentType\":\"file\"},{\"name\":\"Mindy Garfinkel1.txt\",\"path\":\"Text data/Mindy Garfinkel1.txt\",\"contentType\":\"file\"},{\"name\":\"Nebahat Bayrakcioglu.txt\",\"path\":\"Text data/Nebahat Bayrakcioglu.txt\",\"contentType\":\"file\"},{\"name\":\"Neer Asherie.1txt.txt\",\"path\":\"Text data/Neer Asherie.1txt.txt\",\"contentType\":\"file\"},{\"name\":\"Neer Asherie.txt\",\"path\":\"Text data/Neer Asherie.txt\",\"contentType\":\"file\"},{\"name\":\"New Student Welcome Packet - Spring 2023.txt\",\"path\":\"Text data/New Student Welcome Packet - Spring 2023.txt\",\"contentType\":\"file\"},{\"name\":\"Pablo Roldan.txt\",\"path\":\"Text data/Pablo Roldan.txt\",\"contentType\":\"file\"},{\"name\":\"Pablo Roldan1.txt\",\"path\":\"Text data/Pablo Roldan1.txt\",\"contentType\":\"file\"},{\"name\":\"Patents_Licensing_and_IP_Policy.txt\",\"path\":\"Text data/Patents_Licensing_and_IP_Policy.txt\",\"contentType\":\"file\"},{\"name\":\"Patricia Berry.txt\",\"path\":\"Text data/Patricia Berry.txt\",\"contentType\":\"file\"},{\"name\":\"Peter Nandori.txt\",\"path\":\"Text data/Peter Nandori.txt\",\"contentType\":\"file\"},{\"name\":\"Peter Nandori1.txt\",\"path\":\"Text data/Peter Nandori1.txt\",\"contentType\":\"file\"},{\"name\":\"Ran Drori.txt\",\"path\":\"Text data/Ran Drori.txt\",\"contentType\":\"file\"},{\"name\":\"Ran Drori1.txt\",\"path\":\"Text data/Ran Drori1.txt\",\"contentType\":\"file\"},{\"name\":\"Rana Khan.txt\",\"path\":\"Text data/Rana Khan.txt\",\"contentType\":\"file\"},{\"name\":\"Rana Khan1.txt\",\"path\":\"Text data/Rana Khan1.txt\",\"contentType\":\"file\"},{\"name\":\"Robert Frdiman.txt\",\"path\":\"Text data/Robert Frdiman.txt\",\"contentType\":\"file\"},{\"name\":\"Robert Friedman.txt\",\"path\":\"Text data/Robert Friedman.txt\",\"contentType\":\"file\"},{\"name\":\"Robin Brizzi.txt\",\"path\":\"Text data/Robin Brizzi.txt\",\"contentType\":\"file\"},{\"name\":\"Sai Praveen Kadiyala.txt\",\"path\":\"Text data/Sai Praveen Kadiyala.txt\",\"contentType\":\"file\"},{\"name\":\"Samuel Strum.txt\",\"path\":\"Text data/Samuel Strum.txt\",\"contentType\":\"file\"},{\"name\":\"Sergey Buldyrev.txt\",\"path\":\"Text data/Sergey Buldyrev.txt\",\"contentType\":\"file\"},{\"name\":\"Sergey Buldyrev1.txt\",\"path\":\"Text data/Sergey Buldyrev1.txt\",\"contentType\":\"file\"},{\"name\":\"Sergey Fogelson.txt\",\"path\":\"Text data/Sergey Fogelson.txt\",\"contentType\":\"file\"},{\"name\":\"Sharon Verity.txt\",\"path\":\"Text data/Sharon Verity.txt\",\"contentType\":\"file\"},{\"name\":\"Sharon Verity1.txt\",\"path\":\"Text data/Sharon Verity1.txt\",\"contentType\":\"file\"},{\"name\":\"Sivan Tehila.txt\",\"path\":\"Text data/Sivan Tehila.txt\",\"contentType\":\"file\"},{\"name\":\"Sivie Naimer.txt\",\"path\":\"Text data/Sivie Naimer.txt\",\"contentType\":\"file\"},{\"name\":\"Stav Kemeny.txt\",\"path\":\"Text data/Stav Kemeny.txt\",\"contentType\":\"file\"},{\"name\":\"Thom Kennon.txt\",\"path\":\"Text data/Thom Kennon.txt\",\"contentType\":\"file\"},{\"name\":\"Tia Hopkins.txt\",\"path\":\"Text data/Tia Hopkins.txt\",\"contentType\":\"file\"},{\"name\":\"Tom Balga.txt\",\"path\":\"Text data/Tom Balga.txt\",\"contentType\":\"file\"},{\"name\":\"Troy Clifford Dargin.1txt.txt\",\"path\":\"Text data/Troy Clifford Dargin.1txt.txt\",\"contentType\":\"file\"},{\"name\":\"Troy Clifford Dargin.txt\",\"path\":\"Text data/Troy Clifford Dargin.txt\",\"contentType\":\"file\"},{\"name\":\"Wenxiong Chen.txt\",\"path\":\"Text data/Wenxiong Chen.txt\",\"contentType\":\"file\"},{\"name\":\"Wenxiong Chen1.txt\",\"path\":\"Text data/Wenxiong Chen1.txt\",\"contentType\":\"file\"},{\"name\":\"William Wedo.txt\",\"path\":\"Text data/William Wedo.txt\",\"contentType\":\"file\"},{\"name\":\"Youshan Zhang.txt\",\"path\":\"Text data/Youshan Zhang.txt\",\"contentType\":\"file\"},{\"name\":\"Youshan Zhang1.txt\",\"path\":\"Text data/Youshan Zhang1.txt\",\"contentType\":\"file\"},{\"name\":\"Yuri Katz.txt\",\"path\":\"Text data/Yuri Katz.txt\",\"contentType\":\"file\"},{\"name\":\"Zesarae Bodie.txt\",\"path\":\"Text data/Zesarae Bodie.txt\",\"contentType\":\"file\"},{\"name\":\"Zesarae Bodie1.txt\",\"path\":\"Text data/Zesarae Bodie1.txt\",\"contentType\":\"file\"},{\"name\":\"ai.txt\",\"path\":\"Text data/ai.txt\",\"contentType\":\"file\"},{\"name\":\"biotech.txt\",\"path\":\"Text data/biotech.txt\",\"contentType\":\"file\"},{\"name\":\"cyber.txt\",\"path\":\"Text data/cyber.txt\",\"contentType\":\"file\"},{\"name\":\"data-analytics.txt\",\"path\":\"Text data/data-analytics.txt\",\"contentType\":\"file\"},{\"name\":\"digital-marketing-media.txt\",\"path\":\"Text data/digital-marketing-media.txt\",\"contentType\":\"file\"},{\"name\":\"math-ma.txt\",\"path\":\"Text data/math-ma.txt\",\"contentType\":\"file\"},{\"name\":\"math-phd.txt\",\"path\":\"Text data/math-phd.txt\",\"contentType\":\"file\"},{\"name\":\"occupational-therapy.txt\",\"path\":\"Text data/occupational-therapy.txt\",\"contentType\":\"file\"},{\"name\":\"physician-assistant.txt\",\"path\":\"Text data/physician-assistant.txt\",\"contentType\":\"file\"},{\"name\":\"physics.txt\",\"path\":\"Text data/physics.txt\",\"contentType\":\"file\"},{\"name\":\"slp.txt\",\"path\":\"Text data/slp.txt\",\"contentType\":\"file\"}],\"totalCount\":136},\"\":{\"items\":[{\"name\":\".github\",\"path\":\".github\",\"contentType\":\"directory\"},{\"name\":\".rasa\",\"path\":\".rasa\",\"contentType\":\"directory\"},{\"name\":\"Text data\",\"path\":\"Text data\",\"contentType\":\"directory\"},{\"name\":\"actions\",\"path\":\"actions\",\"contentType\":\"directory\"},{\"name\":\"data\",\"path\":\"data\",\"contentType\":\"directory\"},{\"name\":\"data_documents\",\"path\":\"data_documents\",\"contentType\":\"directory\"},{\"name\":\"models\",\"path\":\"models\",\"contentType\":\"directory\"},{\"name\":\"scripts\",\"path\":\"scripts\",\"contentType\":\"directory\"},{\"name\":\"tests\",\"path\":\"tests\",\"contentType\":\"directory\"},{\"name\":\".DS_Store\",\"path\":\".DS_Store\",\"contentType\":\"file\"},{\"name\":\"README.md\",\"path\":\"README.md\",\"contentType\":\"file\"},{\"name\":\"commands.txt\",\"path\":\"commands.txt\",\"contentType\":\"file\"},{\"name\":\"config.yml\",\"path\":\"config.yml\",\"contentType\":\"file\"},{\"name\":\"credentials.yml\",\"path\":\"credentials.yml\",\"contentType\":\"file\"},{\"name\":\"domain.yml\",\"path\":\"domain.yml\",\"contentType\":\"file\"},{\"name\":\"endpoints.yml\",\"path\":\"endpoints.yml\",\"contentType\":\"file\"},{\"name\":\"graph.html\",\"path\":\"graph.html\",\"contentType\":\"file\"},{\"name\":\"index.html\",\"path\":\"index.html\",\"contentType\":\"file\"}],\"totalCount\":18}},\"fileTreeProcessingTime\":16.938399,\"foldersToFetch\":[],\"reducedMotionEnabled\":null,\"repo\":{\"id\":651138075,\"defaultBranch\":\"main\",\"name\":\"yukatzbot\",\"ownerLogin\":\"atreish\",\"currentUserCanPush\":false,\"isFork\":false,\"isEmpty\":false,\"createdAt\":\"2023-06-08T15:20:30.000Z\",\"ownerAvatar\":\"https://avatars.githubusercontent.com/u/50784614?v=4\",\"public\":true,\"private\":false,\"isOrgOwned\":false},\"refInfo\":{\"name\":\"main\",\"listCacheKey\":\"v0:1690235195.0\",\"canEdit\":false,\"refType\":\"branch\",\"currentOid\":\"7607d15ea9b064c3d03a88fd903513fb05f75904\"},\"path\":\"Text data/faculty data/ai.txt\",\"currentUser\":null,\"blob\":{\"rawLines\":[\"Artificial Intelligence:\\\\r\",\"Pablo Roldan\\\\thttps://www.yu.edu/faculty/pages/roldan-pablo\\\\r\",\"Marian Gidea\\\\thttps://www.yu.edu/faculty/pages/gidea-marian\\\\r\",\"Peter Nandori\\\\thttps://www.yu.edu/faculty/pages/nandori-peter\\\\r\",\"Youshan Zhang\\\\thttps://youshanzhang.github.io/\"],\"stylingDirectives\":[[],[],[],[],[]],\"csv\":null,\"csvError\":null,\"dependabotInfo\":{\"showConfigurationBanner\":false,\"configFilePath\":null,\"networkDependabotPath\":\"/atreish/yukatzbot/network/updates\",\"dismissConfigurationNoticePath\":\"/settings/dismiss-notice/dependabot_configuration_notice\",\"configurationNoticeDismissed\":null,\"repoAlertsPath\":\"/atreish/yukatzbot/security/dependabot\",\"repoSecurityAndAnalysisPath\":\"/atreish/yukatzbot/settings/security_analysis\",\"repoOwnerIsOrg\":false,\"currentUserCanAdminRepo\":false},\"displayName\":\"ai.txt\",\"displayUrl\":\"https://github.com/atreish/yukatzbot/blob/main/Text%20data/faculty%20data/ai.txt?raw=true\",\"headerInfo\":{\"blobSize\":\"253 Bytes\",\"deleteInfo\":{\"deletePath\":null,\"deleteTooltip\":\"You must be signed in to make or propose changes\"},\"editInfo\":{\"editTooltip\":\"You must be signed in to make or propose changes\"},\"ghDesktopPath\":\"https://desktop.github.com\",\"gitLfsPath\":null,\"onBranch\":true,\"shortPath\":\"dfeb6ff\",\"siteNavLoginPath\":\"/login?return_to=https%3A%2F%2Fgithub.com%2Fatreish%2Fyukatzbot%2Fblob%2Fmain%2FText%2520data%2Ffaculty%2520data%2Fai.txt\",\"isCSV\":false,\"isRichtext\":false,\"toc\":null,\"lineInfo\":{\"truncatedLoc\":\"5\",\"truncatedSloc\":\"5\"},\"mode\":\"file\"},\"image\":false,\"isCodeownersFile\":null,\"isValidLegacyIssueTemplate\":false,\"issueTemplateHelpUrl\":\"https://docs.github.com/articles/about-issue-and-pull-request-templates\",\"issueTemplate\":null,\"discussionTemplate\":null,\"language\":\"Text\",\"large\":false,\"loggedIn\":false,\"newDiscussionPath\":\"/atreish/yukatzbot/discussions/new\",\"newIssuePath\":\"/atreish/yukatzbot/issues/new\",\"planSupportInfo\":{\"repoIsFork\":null,\"repoOwnedByCurrentUser\":null,\"requestFullPath\":\"/atreish/yukatzbot/blob/main/Text%20data/faculty%20data/ai.txt\",\"showFreeOrgGatedFeatureMessage\":null,\"showPlanSupportBanner\":null,\"upgradeDataAttributes\":null,\"upgradePath\":null},\"publishBannersInfo\":{\"dismissActionNoticePath\":\"/settings/dismiss-notice/publish_action_from_dockerfile\",\"dismissStackNoticePath\":\"/settings/dismiss-notice/publish_stack_from_file\",\"releasePath\":\"/atreish/yukatzbot/releases/new?marketplace=true\",\"showPublishActionBanner\":false,\"showPublishStackBanner\":false},\"renderImageOrRaw\":false,\"richText\":null,\"renderedFileInfo\":null,\"tabSize\":8,\"topBannersInfo\":{\"overridingGlobalFundingFile\":false,\"globalPreferredFundingPath\":null,\"repoOwner\":\"atreish\",\"repoName\":\"yukatzbot\",\"showInvalidCitationWarning\":false,\"citationHelpUrl\":\"https://docs.github.com/en/github/creating-cloning-and-archiving-repositories/creating-a-repository-on-github/about-citation-files\",\"showDependabotConfigurationBanner\":false,\"actionsOnboardingTip\":null},\"truncated\":false,\"viewable\":true,\"workflowRedirectUrl\":null,\"symbols\":{\"timedOut\":false,\"notAnalyzed\":true,\"symbols\":[]}},\"copilotUserAccess\":null,\"csrf_tokens\":{\"/atreish/yukatzbot/branches\":{\"post\":\"rTT6ebL0XJII4ZWlWkGykF9py4X_yKj0OOawuk3uoqpY0KQwCbLRkN__yhvT4xrmd-tF-PSXzJf2yGh2eXAyiw\"}}},\"title\":\"yukatzbot/Text data/faculty data/ai.txt at main · atreish/yukatzbot\",\"locale\":\"en\"}'"
            ],
            "application/vnd.google.colaboratory.intrinsic+json": {
              "type": "string"
            }
          },
          "metadata": {},
          "execution_count": 12
        }
      ]
    },
    {
      "cell_type": "code",
      "source": [
        "import requests\n",
        "\n",
        "# Assuming 'file_name' contains the path of the file you want to fetch\n",
        "file_name = \"Text data/programs data/ai.txt\"\n",
        "raw_file_url = f'https://raw.githubusercontent.com/atreish/yukatzbot/main/{file_name}'\n",
        "response = requests.get(raw_file_url)\n",
        "response.raise_for_status()\n",
        "text_content = response.text\n",
        "\n",
        "# Now 'text_content' contains the plain text content of the file\n",
        "print(text_content)\n"
      ],
      "metadata": {
        "colab": {
          "base_uri": "https://localhost:8080/"
        },
        "id": "dINBjTTBGxhF",
        "outputId": "d00c723f-8a00-4435-b651-0ca17db8ffcd"
      },
      "execution_count": null,
      "outputs": [
        {
          "output_type": "stream",
          "name": "stdout",
          "text": [
            "Artificial Intelligence program:\r\n",
            "\r\n",
            "In this interdisciplinary master’s degree program, you’ll design and build cutting-edge artificial intelligence technologies for a variety of applications, including finance, biotech, cybersecurity, ad-tech and health care. Working with top researchers and accomplished industry experts, you’ll bridge AI and machine learning models, such as supervised and unsupervised learning, deep learning and neural networks, and reinforcement learning with engineering best practices including problem framing, requirements gathering, UI/UX and software development. In addition, you’ll gain hands-on experience with structured and unstructured data using the latest tools, such as Python, R, SQL/NoSQL, TensorFlow, Keras and pyTorch. And you’ll be doing all of this in the heart of New York City.\r\n",
            "The New York metropolitan area has the highest number of AI-related jobs in the country. As a graduate of Yeshiva University’s master’s degree in artificial intelligence, you’ll be prepared for a variety of artificial-intelligence and machine-learning jobs in research and development groups, product design labs, innovative startups and Ph.D. programs. In its Future of Jobs Report 2020, the World Economic Forum ranked AI and machine learning specialists second among the top 20 jobs increasing in demand in all industries. The U.S. Bureau of Labor Statistics reported on the salaries of the following jobs in 2019: AI engineer ($92,000 to $140,000); data mining and analysis ($100,000 to $220,000); machine learning engineer ($146,000); data scientist ($86,000 to $157,000); and business intelligence developer ($84,000 to $104,000).\r\n",
            "\r\n",
            "Program Highlights:\r\n",
            "\r\n",
            "Develop a grounding in artificial intelligence theory, research, technologies and ethical standards\r\n",
            "Design and build AI applications in natural language processing, image recognition and computer vision, chatbots, search and optimization, autonomous action, sentiment and emotion analysis, assistive agents, and more\r\n",
            "Learn the math, concepts, use cases and code behind AI's algorithms\r\n",
            "Translate AI research into products, services and startups\r\n",
            "Career support and professional networking opportunities\r\n",
            "Gain industry experience through internships and research\r\n",
            "STEM-OPT eligible\r\n",
            ", \r\n",
            "\r\n",
            "Current Projects:\r\n",
            "\r\n",
            "Financial Impact of Tropical Cyclones on U.S. Real Estate Sector\r\n",
            "Medical Imaging and Artificial Intelligence\r\n",
            "Prediction of Total Body Water Volume in Hemodialysis Patients\r\n",
            "Prediction of Recurrent Complications on Covid-19 Patients\r\n",
            "Deep Portfolio Theory\r\n",
            "Portfolio Optimization with Regime Changes\r\n",
            "Index Tracking Using Reinforcement Learning\r\n",
            "\r\n",
            "AI Fellows:\r\n",
            "\r\n",
            "Join students and alumni from over 30 countries to work on pioneering research, citywide initiatives and new technologies that help to make the world smarter, safer and healthier.\r\n",
            "\r\n",
            "Benefits:\r\n",
            "\r\n",
            "Receive industry mentorship\r\n",
            "Showcase and publish your research at the Katz School's annual Symposium on Science, Technology and Health\r\n",
            "Receive a scholarship reducing total tuition to $25K* for your entire graduate degree, start to finish — whether you complete your degree in one or two years\r\n",
            "Learn more about the Fellows Program.\r\n",
            "\r\n",
            "B.A./M.S. Pathways Option:\r\n",
            "\r\n",
            "Through the B.A./M.S. option, undergraduates from Yeshiva College, Stern College for Women and the Sy Syms School of Business can take up to 12 graduate credits that will count toward both their bachelor's and master's degrees. After completing their bachelor's, students can finish their graduate degree in just one more year.\r\n",
            "Admissions criteria: Junior or senior standing in any Yeshiva College, Stern College for Women or Sy Syms School of Business undergraduate major with a minimum GPA of 3.2 and a minimum grade of B-plus in the prerequisite courses listed below. Students can begin taking graduate coursework in their junior or senior year.\r\n",
            "Prerequisites for graduate courses: Two university courses in a high-level programming language, such as Java, C++ and Python, one course in multivariate calculus, one course in linear algebra, and one course in mathematical probability or statistics, all with a grade of B-plus or better.\r\n",
            "For more information, visit www.yu.edu/pathways.  \r\n",
            "\r\n",
            "Internships and STEM-OPT:\r\n",
            "\r\n",
            "Our students have gained invaluable industry experience through internships at major companies, such as S&P and Dow Jones, startups and the YU Innovation Lab that counts toward their degree. The Katz School’s master’s in artificial intelligence is a STEM-approved degree. International students may be eligible for up to 36 months of Optional Practical Training (OPT). The program also offers several opportunities for Curricular Practical Training (CPT). \r\n",
            "Interested in this program? Apply Now! \n"
          ]
        }
      ]
    },
    {
      "cell_type": "code",
      "execution_count": null,
      "metadata": {
        "id": "nF_Wekn8LEvF"
      },
      "outputs": [],
      "source": [
        "unsuccessful=[]\n",
        "sentences=[]\n",
        "delimiter = \"####\"\n",
        "\n",
        "\n",
        "# Process each text file\n",
        "for file_name in file_names:\n",
        "    # Download the text file content\n",
        "    raw_file_url = f'https://raw.githubusercontent.com/atreish/yukatzbot/main/Text data/programs data/{file_name}'\n",
        "    response = requests.get(raw_file_url)\n",
        "    response.raise_for_status()\n",
        "    text_content = response.text\n",
        "\n",
        "\n",
        "    user_message_1 = f\"\"\"\n",
        "Generate around 5 questions and corresponsing answers for these questions mentioning the program name mandatorily . Each question should contain his program name in the sentence.\n",
        "Give answers in the senetences mentioned in the sentences. Not the list. Questions related only to the text.\n",
        "\n",
        "\"\"\"\n",
        "    messages =  [\n",
        "{'role':'system',\n",
        " 'content': text_content},\n",
        "{'role':'user',\n",
        " 'content': f\"{delimiter}{user_message_1}{delimiter}\"},\n",
        "]\n",
        "    try:\n",
        "        category_and_product_respons = get_completion_from_messages(messages)\n",
        "        sentences.extend(category_and_product_respons.split('\\n'))\n",
        "\n",
        "    except openai.OpenAIError as e:\n",
        "        # Handle the OpenAIError exception\n",
        "        unsuccessful.append(text_content)\n",
        "        # Additional error handling code if needed"
      ]
    },
    {
      "cell_type": "code",
      "execution_count": null,
      "metadata": {
        "colab": {
          "base_uri": "https://localhost:8080/"
        },
        "id": "i5W_2j4mK-R0",
        "outputId": "832548ef-2803-4e89-ce56-8fd6bb46510d"
      },
      "outputs": [
        {
          "output_type": "execute_result",
          "data": {
            "text/plain": [
              "154"
            ]
          },
          "metadata": {},
          "execution_count": 209
        }
      ],
      "source": [
        "len(sentences)"
      ]
    },
    {
      "cell_type": "code",
      "source": [
        "len(sentences)"
      ],
      "metadata": {
        "colab": {
          "base_uri": "https://localhost:8080/"
        },
        "id": "-kNTz2B-NJDO",
        "outputId": "e6f7a43d-5012-41f9-8c21-e8810a011a4a"
      },
      "execution_count": null,
      "outputs": [
        {
          "output_type": "execute_result",
          "data": {
            "text/plain": [
              "154"
            ]
          },
          "metadata": {},
          "execution_count": 210
        }
      ]
    },
    {
      "cell_type": "code",
      "execution_count": null,
      "metadata": {
        "id": "HM2RAIQhP1nA"
      },
      "outputs": [],
      "source": [
        "sentences=list(filter(lambda x: x!='I can provide five questions and their corresponding answers based on the above text:',sentences))"
      ]
    },
    {
      "cell_type": "code",
      "execution_count": null,
      "metadata": {
        "id": "epLQSCfBP5oo"
      },
      "outputs": [],
      "source": [
        "sentences=list(filter(lambda x: x!=\"I'm sorry, as an AI language model, I cannot provide a list of 10 questions and their corresponding answers without any context. Could you please provide more information or specify the questions you would like me to answer?\",sentences))"
      ]
    },
    {
      "cell_type": "code",
      "execution_count": null,
      "metadata": {
        "id": "n2JPI34aP97_"
      },
      "outputs": [],
      "source": [
        "sentences=list(filter(lambda x: x!='',sentences))"
      ]
    },
    {
      "cell_type": "code",
      "source": [
        "len(sentences)"
      ],
      "metadata": {
        "id": "NF80BmKi85mr",
        "outputId": "343255f0-f5b9-461b-9d3e-922c88d6eab3",
        "colab": {
          "base_uri": "https://localhost:8080/"
        }
      },
      "execution_count": null,
      "outputs": [
        {
          "output_type": "execute_result",
          "data": {
            "text/plain": [
              "110"
            ]
          },
          "metadata": {},
          "execution_count": 214
        }
      ]
    },
    {
      "cell_type": "code",
      "execution_count": null,
      "metadata": {
        "id": "O0aZoF83T6GW"
      },
      "outputs": [],
      "source": [
        "df=pd.DataFrame(columns=['question','answer'])"
      ]
    },
    {
      "cell_type": "code",
      "execution_count": null,
      "metadata": {
        "id": "Q2bkdMePTTSQ"
      },
      "outputs": [],
      "source": [
        "for i in range(0, len(sentences), 2):\n",
        "    if i + 1 < len(sentences):\n",
        "        df.loc[len(df)] = {\n",
        "            'question': sentences[i],\n",
        "            'answer': sentences[i + 1],\n",
        "        }\n",
        "    else:\n",
        "        df.loc[len(df)] = {\n",
        "            'question': sentences[i],\n",
        "            'answer': '',\n",
        "        }"
      ]
    },
    {
      "cell_type": "code",
      "execution_count": null,
      "metadata": {
        "id": "IoTTGTMLTI0v"
      },
      "outputs": [],
      "source": [
        "df['answer']=df['answer'].apply(lambda x: re.sub(r'Answer: ','',x))"
      ]
    },
    {
      "cell_type": "code",
      "execution_count": null,
      "metadata": {
        "id": "xaKqEm1bVvhM"
      },
      "outputs": [],
      "source": [
        "df['question']=df['question'].apply(lambda x: re.sub(r'\\d+\\.\\s','',x))"
      ]
    },
    {
      "cell_type": "code",
      "execution_count": null,
      "metadata": {
        "id": "VyuQbRczVzoT"
      },
      "outputs": [],
      "source": [
        "df['answer']=df['answer'].apply(lambda x: re.sub(r'^\\d+\\.\\s*','',x))"
      ]
    },
    {
      "cell_type": "code",
      "source": [
        "df['answer']=df['answer'].apply(lambda x: re.sub(r'^-','',x))"
      ],
      "metadata": {
        "id": "KJVBP5jBE--r"
      },
      "execution_count": null,
      "outputs": []
    },
    {
      "cell_type": "code",
      "execution_count": null,
      "metadata": {
        "id": "RMlFUm2SS4f1"
      },
      "outputs": [],
      "source": [
        "df['question']=df['question'].apply(lambda x: re.sub(r'Q:','',x))"
      ]
    },
    {
      "cell_type": "code",
      "execution_count": null,
      "metadata": {
        "id": "rDJUtkrOTZFl"
      },
      "outputs": [],
      "source": [
        "df['answer']=df['answer'].apply(lambda x: re.sub(r'Answer:','',x))"
      ]
    },
    {
      "cell_type": "code",
      "execution_count": null,
      "metadata": {
        "id": "CxOxHCBnEADK"
      },
      "outputs": [],
      "source": [
        "# Identify duplicate values in the 'question' column\n",
        "df.drop_duplicates(subset=['question'],inplace=True)\n",
        "\n"
      ]
    },
    {
      "cell_type": "code",
      "source": [
        "df"
      ],
      "metadata": {
        "colab": {
          "base_uri": "https://localhost:8080/",
          "height": 1314
        },
        "id": "B524VrR_Jyqe",
        "outputId": "b004670e-7703-45be-c8ce-1c3d0df4519d"
      },
      "execution_count": null,
      "outputs": [
        {
          "output_type": "execute_result",
          "data": {
            "text/plain": [
              "                                             question  \\\n",
              "0   What are some of the applications that student...   \n",
              "1   What are some of the skills and knowledge that...   \n",
              "2   What are some of the job opportunities availab...   \n",
              "3   Can undergraduate students at Yeshiva Universi...   \n",
              "4   Are there opportunities for internships and pr...   \n",
              "5   What is the goal of the M.S. in Biotechnology ...   \n",
              "6   How does the Biotech Fellows program benefit s...   \n",
              "7   Can undergraduate students from Yeshiva Colleg...   \n",
              "8   Are internships available for students in the ...   \n",
              "9   Is the Master's in Biotechnology Management an...   \n",
              "10  What skills will I develop in the master's in ...   \n",
              "11  How does the master's in cybersecurity program...   \n",
              "12  Can I participate in research and industry pro...   \n",
              "13  Are there any opportunities for undergraduate ...   \n",
              "14  Can international students gain industry exper...   \n",
              "15  What skills will I learn in the M.S. in Data A...   \n",
              "16  How does the M.S. in Data Analytics and Visual...   \n",
              "17  Can undergraduate students at Yeshiva College ...   \n",
              "18  Are internships available for students in the ...   \n",
              "19  Is the M.S. in Data Analytics and Visualizatio...   \n",
              "20  What skills will I gain from the M.S. in Digit...   \n",
              "21  How long does it take to complete the M.S. in ...   \n",
              "22  What are some of the strategies covered in the...   \n",
              "23  Are there any opportunities for internships in...   \n",
              "24  Can international students participate in the ...   \n",
              "25  What are the career prospects for graduates of...   \n",
              "26  How does the M.A. in Mathematics program at Ye...   \n",
              "27  Are there research opportunities available in ...   \n",
              "28  Can Yeshiva University undergraduates pursue a...   \n",
              "29  Is financial aid available for the M.A. in Mat...   \n",
              "30  What are the areas of focus in the Ph.D. in Ma...   \n",
              "31  How long does it take to complete the Ph.D. in...   \n",
              "32  What career opportunities are available for gr...   \n",
              "33  Are there internship opportunities for Ph.D. s...   \n",
              "34  Is the Ph.D. in Mathematics program at Yeshiva...   \n",
              "35  What is the focus of the Occupational Therapy ...   \n",
              "36  How does the Occupational Therapy Doctorate pr...   \n",
              "37  What sets the Occupational Therapy Doctorate p...   \n",
              "38  How does the Occupational Therapy Doctorate pr...   \n",
              "39  What are the career prospects for graduates of...   \n",
              "40  What is the role of Physician Assistants in th...   \n",
              "41  How much medical training do Physician Assista...   \n",
              "42            Where do Physician Assistants practice?   \n",
              "43  What are some of the responsibilities of Physi...   \n",
              "44  Can Physician Assistants serve as a patient's ...   \n",
              "45  What are the areas of specialization in YU's M...   \n",
              "46  What career opportunities can graduates of YU'...   \n",
              "47  How does YU's M.A. in Physics program prepare ...   \n",
              "48  Can YU undergraduates take advantage of an acc...   \n",
              "49  Are there opportunities for internships and pr...   \n",
              "50  What sets the M.S. in Speech-Language Patholog...   \n",
              "51  How does the program prepare students for thei...   \n",
              "52  What opportunities are available for students ...   \n",
              "53  What are the potential career prospects and ea...   \n",
              "54  Is the M.S. in Speech-Language Pathology progr...   \n",
              "\n",
              "                                               answer  \n",
              "0    Students in the program can work on applicati...  \n",
              "1    Students will gain skills and knowledge in AI...  \n",
              "2    Graduates can pursue careers in research and ...  \n",
              "3    Yes, through the B.A./M.S. Pathways option, u...  \n",
              "4    Yes, students have the opportunity to gain in...  \n",
              "5    The goal of the M.S. in Biotechnology Managem...  \n",
              "6    The Biotech Fellows program provides students...  \n",
              "7    Yes, undergraduate students from Yeshiva Coll...  \n",
              "8    Yes, students in the Master's in Biotechnolog...  \n",
              "9    Yes, the Master's in Biotechnology Management...  \n",
              "10  In the master's in cybersecurity program at th...  \n",
              "11  The master's in cybersecurity program at the K...  \n",
              "12  Yes, as a student in the master's in cybersecu...  \n",
              "13  Yes, through the B.A./M.S. Pathways option, un...  \n",
              "14  Yes, international students in the master's in...  \n",
              "15  In the M.S. in Data Analytics and Visualizatio...  \n",
              "16  The M.S. in Data Analytics and Visualization p...  \n",
              "17  Yes, undergraduate students from Yeshiva Colle...  \n",
              "18  Yes, students in the M.S. in Data Analytics an...  \n",
              "19  Yes, the M.S. in Data Analytics and Visualizat...  \n",
              "20  The M.S. in Digital Marketing and Media progra...  \n",
              "21  The M.S. in Digital Marketing and Media progra...  \n",
              "22  The M.S. in Digital Marketing and Media progra...  \n",
              "23  Yes, the M.S. in Digital Marketing and Media p...  \n",
              "24  Yes, international students can enroll in the ...  \n",
              "25   Graduates of the M.A. in Mathematics program ...  \n",
              "26   The program provides students with a solid fo...  \n",
              "27   Yes, students in the program have the opportu...  \n",
              "28   Yes, YU undergraduates can take up to 12 grad...  \n",
              "29   Yes, generous scholarships and financial aid ...  \n",
              "30   The program emphasizes complex systems, inclu...  \n",
              "31   The program offers three tracks: three years ...  \n",
              "32   Graduates are prepared for careers as researc...  \n",
              "33   Yes, students have the opportunity to gain in...  \n",
              "34   Yes, the program is STEM-approved, and intern...  \n",
              "35   The program focuses on occupation-based pract...  \n",
              "36   The program provides hands-on experience in f...  \n",
              "37   The program is the first fully accredited ent...  \n",
              "38   Students have the opportunity to collaborate ...  \n",
              "39   Graduates of the program are in high demand, ...  \n",
              "40  Physician Assistants (PAs) are medical profess...  \n",
              "41  PAs complete thousands of hours of medical tra...  \n",
              "42  PAs practice nationwide, improving patient acc...  \n",
              "43  Physician Assistants diagnose disease, develop...  \n",
              "44  Yes, Physician Assistants often serve as a pat...  \n",
              "45   YU's M.A. in Physics specializes in classical...  \n",
              "46   Graduates of YU's M.A. in Physics program can...  \n",
              "47   YU's M.A. in Physics program provides student...  \n",
              "48   Yes, through the B.A./M.A. option, YU undergr...  \n",
              "49   Yes, YU's M.A. in Physics program offers inte...  \n",
              "50   The M.S. in Speech-Language Pathology program...  \n",
              "51   The program provides students with four clini...  \n",
              "52   Students have the opportunity to attend profe...  \n",
              "53   Graduates of the program can pursue careers a...  \n",
              "54   Yes, the Master of Science (M.S.) education p...  "
            ],
            "text/html": [
              "\n",
              "\n",
              "  <div id=\"df-c02abb9f-4fa3-4888-8884-a7194ac086cb\">\n",
              "    <div class=\"colab-df-container\">\n",
              "      <div>\n",
              "<style scoped>\n",
              "    .dataframe tbody tr th:only-of-type {\n",
              "        vertical-align: middle;\n",
              "    }\n",
              "\n",
              "    .dataframe tbody tr th {\n",
              "        vertical-align: top;\n",
              "    }\n",
              "\n",
              "    .dataframe thead th {\n",
              "        text-align: right;\n",
              "    }\n",
              "</style>\n",
              "<table border=\"1\" class=\"dataframe\">\n",
              "  <thead>\n",
              "    <tr style=\"text-align: right;\">\n",
              "      <th></th>\n",
              "      <th>question</th>\n",
              "      <th>answer</th>\n",
              "    </tr>\n",
              "  </thead>\n",
              "  <tbody>\n",
              "    <tr>\n",
              "      <th>0</th>\n",
              "      <td>What are some of the applications that student...</td>\n",
              "      <td>Students in the program can work on applicati...</td>\n",
              "    </tr>\n",
              "    <tr>\n",
              "      <th>1</th>\n",
              "      <td>What are some of the skills and knowledge that...</td>\n",
              "      <td>Students will gain skills and knowledge in AI...</td>\n",
              "    </tr>\n",
              "    <tr>\n",
              "      <th>2</th>\n",
              "      <td>What are some of the job opportunities availab...</td>\n",
              "      <td>Graduates can pursue careers in research and ...</td>\n",
              "    </tr>\n",
              "    <tr>\n",
              "      <th>3</th>\n",
              "      <td>Can undergraduate students at Yeshiva Universi...</td>\n",
              "      <td>Yes, through the B.A./M.S. Pathways option, u...</td>\n",
              "    </tr>\n",
              "    <tr>\n",
              "      <th>4</th>\n",
              "      <td>Are there opportunities for internships and pr...</td>\n",
              "      <td>Yes, students have the opportunity to gain in...</td>\n",
              "    </tr>\n",
              "    <tr>\n",
              "      <th>5</th>\n",
              "      <td>What is the goal of the M.S. in Biotechnology ...</td>\n",
              "      <td>The goal of the M.S. in Biotechnology Managem...</td>\n",
              "    </tr>\n",
              "    <tr>\n",
              "      <th>6</th>\n",
              "      <td>How does the Biotech Fellows program benefit s...</td>\n",
              "      <td>The Biotech Fellows program provides students...</td>\n",
              "    </tr>\n",
              "    <tr>\n",
              "      <th>7</th>\n",
              "      <td>Can undergraduate students from Yeshiva Colleg...</td>\n",
              "      <td>Yes, undergraduate students from Yeshiva Coll...</td>\n",
              "    </tr>\n",
              "    <tr>\n",
              "      <th>8</th>\n",
              "      <td>Are internships available for students in the ...</td>\n",
              "      <td>Yes, students in the Master's in Biotechnolog...</td>\n",
              "    </tr>\n",
              "    <tr>\n",
              "      <th>9</th>\n",
              "      <td>Is the Master's in Biotechnology Management an...</td>\n",
              "      <td>Yes, the Master's in Biotechnology Management...</td>\n",
              "    </tr>\n",
              "    <tr>\n",
              "      <th>10</th>\n",
              "      <td>What skills will I develop in the master's in ...</td>\n",
              "      <td>In the master's in cybersecurity program at th...</td>\n",
              "    </tr>\n",
              "    <tr>\n",
              "      <th>11</th>\n",
              "      <td>How does the master's in cybersecurity program...</td>\n",
              "      <td>The master's in cybersecurity program at the K...</td>\n",
              "    </tr>\n",
              "    <tr>\n",
              "      <th>12</th>\n",
              "      <td>Can I participate in research and industry pro...</td>\n",
              "      <td>Yes, as a student in the master's in cybersecu...</td>\n",
              "    </tr>\n",
              "    <tr>\n",
              "      <th>13</th>\n",
              "      <td>Are there any opportunities for undergraduate ...</td>\n",
              "      <td>Yes, through the B.A./M.S. Pathways option, un...</td>\n",
              "    </tr>\n",
              "    <tr>\n",
              "      <th>14</th>\n",
              "      <td>Can international students gain industry exper...</td>\n",
              "      <td>Yes, international students in the master's in...</td>\n",
              "    </tr>\n",
              "    <tr>\n",
              "      <th>15</th>\n",
              "      <td>What skills will I learn in the M.S. in Data A...</td>\n",
              "      <td>In the M.S. in Data Analytics and Visualizatio...</td>\n",
              "    </tr>\n",
              "    <tr>\n",
              "      <th>16</th>\n",
              "      <td>How does the M.S. in Data Analytics and Visual...</td>\n",
              "      <td>The M.S. in Data Analytics and Visualization p...</td>\n",
              "    </tr>\n",
              "    <tr>\n",
              "      <th>17</th>\n",
              "      <td>Can undergraduate students at Yeshiva College ...</td>\n",
              "      <td>Yes, undergraduate students from Yeshiva Colle...</td>\n",
              "    </tr>\n",
              "    <tr>\n",
              "      <th>18</th>\n",
              "      <td>Are internships available for students in the ...</td>\n",
              "      <td>Yes, students in the M.S. in Data Analytics an...</td>\n",
              "    </tr>\n",
              "    <tr>\n",
              "      <th>19</th>\n",
              "      <td>Is the M.S. in Data Analytics and Visualizatio...</td>\n",
              "      <td>Yes, the M.S. in Data Analytics and Visualizat...</td>\n",
              "    </tr>\n",
              "    <tr>\n",
              "      <th>20</th>\n",
              "      <td>What skills will I gain from the M.S. in Digit...</td>\n",
              "      <td>The M.S. in Digital Marketing and Media progra...</td>\n",
              "    </tr>\n",
              "    <tr>\n",
              "      <th>21</th>\n",
              "      <td>How long does it take to complete the M.S. in ...</td>\n",
              "      <td>The M.S. in Digital Marketing and Media progra...</td>\n",
              "    </tr>\n",
              "    <tr>\n",
              "      <th>22</th>\n",
              "      <td>What are some of the strategies covered in the...</td>\n",
              "      <td>The M.S. in Digital Marketing and Media progra...</td>\n",
              "    </tr>\n",
              "    <tr>\n",
              "      <th>23</th>\n",
              "      <td>Are there any opportunities for internships in...</td>\n",
              "      <td>Yes, the M.S. in Digital Marketing and Media p...</td>\n",
              "    </tr>\n",
              "    <tr>\n",
              "      <th>24</th>\n",
              "      <td>Can international students participate in the ...</td>\n",
              "      <td>Yes, international students can enroll in the ...</td>\n",
              "    </tr>\n",
              "    <tr>\n",
              "      <th>25</th>\n",
              "      <td>What are the career prospects for graduates of...</td>\n",
              "      <td>Graduates of the M.A. in Mathematics program ...</td>\n",
              "    </tr>\n",
              "    <tr>\n",
              "      <th>26</th>\n",
              "      <td>How does the M.A. in Mathematics program at Ye...</td>\n",
              "      <td>The program provides students with a solid fo...</td>\n",
              "    </tr>\n",
              "    <tr>\n",
              "      <th>27</th>\n",
              "      <td>Are there research opportunities available in ...</td>\n",
              "      <td>Yes, students in the program have the opportu...</td>\n",
              "    </tr>\n",
              "    <tr>\n",
              "      <th>28</th>\n",
              "      <td>Can Yeshiva University undergraduates pursue a...</td>\n",
              "      <td>Yes, YU undergraduates can take up to 12 grad...</td>\n",
              "    </tr>\n",
              "    <tr>\n",
              "      <th>29</th>\n",
              "      <td>Is financial aid available for the M.A. in Mat...</td>\n",
              "      <td>Yes, generous scholarships and financial aid ...</td>\n",
              "    </tr>\n",
              "    <tr>\n",
              "      <th>30</th>\n",
              "      <td>What are the areas of focus in the Ph.D. in Ma...</td>\n",
              "      <td>The program emphasizes complex systems, inclu...</td>\n",
              "    </tr>\n",
              "    <tr>\n",
              "      <th>31</th>\n",
              "      <td>How long does it take to complete the Ph.D. in...</td>\n",
              "      <td>The program offers three tracks: three years ...</td>\n",
              "    </tr>\n",
              "    <tr>\n",
              "      <th>32</th>\n",
              "      <td>What career opportunities are available for gr...</td>\n",
              "      <td>Graduates are prepared for careers as researc...</td>\n",
              "    </tr>\n",
              "    <tr>\n",
              "      <th>33</th>\n",
              "      <td>Are there internship opportunities for Ph.D. s...</td>\n",
              "      <td>Yes, students have the opportunity to gain in...</td>\n",
              "    </tr>\n",
              "    <tr>\n",
              "      <th>34</th>\n",
              "      <td>Is the Ph.D. in Mathematics program at Yeshiva...</td>\n",
              "      <td>Yes, the program is STEM-approved, and intern...</td>\n",
              "    </tr>\n",
              "    <tr>\n",
              "      <th>35</th>\n",
              "      <td>What is the focus of the Occupational Therapy ...</td>\n",
              "      <td>The program focuses on occupation-based pract...</td>\n",
              "    </tr>\n",
              "    <tr>\n",
              "      <th>36</th>\n",
              "      <td>How does the Occupational Therapy Doctorate pr...</td>\n",
              "      <td>The program provides hands-on experience in f...</td>\n",
              "    </tr>\n",
              "    <tr>\n",
              "      <th>37</th>\n",
              "      <td>What sets the Occupational Therapy Doctorate p...</td>\n",
              "      <td>The program is the first fully accredited ent...</td>\n",
              "    </tr>\n",
              "    <tr>\n",
              "      <th>38</th>\n",
              "      <td>How does the Occupational Therapy Doctorate pr...</td>\n",
              "      <td>Students have the opportunity to collaborate ...</td>\n",
              "    </tr>\n",
              "    <tr>\n",
              "      <th>39</th>\n",
              "      <td>What are the career prospects for graduates of...</td>\n",
              "      <td>Graduates of the program are in high demand, ...</td>\n",
              "    </tr>\n",
              "    <tr>\n",
              "      <th>40</th>\n",
              "      <td>What is the role of Physician Assistants in th...</td>\n",
              "      <td>Physician Assistants (PAs) are medical profess...</td>\n",
              "    </tr>\n",
              "    <tr>\n",
              "      <th>41</th>\n",
              "      <td>How much medical training do Physician Assista...</td>\n",
              "      <td>PAs complete thousands of hours of medical tra...</td>\n",
              "    </tr>\n",
              "    <tr>\n",
              "      <th>42</th>\n",
              "      <td>Where do Physician Assistants practice?</td>\n",
              "      <td>PAs practice nationwide, improving patient acc...</td>\n",
              "    </tr>\n",
              "    <tr>\n",
              "      <th>43</th>\n",
              "      <td>What are some of the responsibilities of Physi...</td>\n",
              "      <td>Physician Assistants diagnose disease, develop...</td>\n",
              "    </tr>\n",
              "    <tr>\n",
              "      <th>44</th>\n",
              "      <td>Can Physician Assistants serve as a patient's ...</td>\n",
              "      <td>Yes, Physician Assistants often serve as a pat...</td>\n",
              "    </tr>\n",
              "    <tr>\n",
              "      <th>45</th>\n",
              "      <td>What are the areas of specialization in YU's M...</td>\n",
              "      <td>YU's M.A. in Physics specializes in classical...</td>\n",
              "    </tr>\n",
              "    <tr>\n",
              "      <th>46</th>\n",
              "      <td>What career opportunities can graduates of YU'...</td>\n",
              "      <td>Graduates of YU's M.A. in Physics program can...</td>\n",
              "    </tr>\n",
              "    <tr>\n",
              "      <th>47</th>\n",
              "      <td>How does YU's M.A. in Physics program prepare ...</td>\n",
              "      <td>YU's M.A. in Physics program provides student...</td>\n",
              "    </tr>\n",
              "    <tr>\n",
              "      <th>48</th>\n",
              "      <td>Can YU undergraduates take advantage of an acc...</td>\n",
              "      <td>Yes, through the B.A./M.A. option, YU undergr...</td>\n",
              "    </tr>\n",
              "    <tr>\n",
              "      <th>49</th>\n",
              "      <td>Are there opportunities for internships and pr...</td>\n",
              "      <td>Yes, YU's M.A. in Physics program offers inte...</td>\n",
              "    </tr>\n",
              "    <tr>\n",
              "      <th>50</th>\n",
              "      <td>What sets the M.S. in Speech-Language Patholog...</td>\n",
              "      <td>The M.S. in Speech-Language Pathology program...</td>\n",
              "    </tr>\n",
              "    <tr>\n",
              "      <th>51</th>\n",
              "      <td>How does the program prepare students for thei...</td>\n",
              "      <td>The program provides students with four clini...</td>\n",
              "    </tr>\n",
              "    <tr>\n",
              "      <th>52</th>\n",
              "      <td>What opportunities are available for students ...</td>\n",
              "      <td>Students have the opportunity to attend profe...</td>\n",
              "    </tr>\n",
              "    <tr>\n",
              "      <th>53</th>\n",
              "      <td>What are the potential career prospects and ea...</td>\n",
              "      <td>Graduates of the program can pursue careers a...</td>\n",
              "    </tr>\n",
              "    <tr>\n",
              "      <th>54</th>\n",
              "      <td>Is the M.S. in Speech-Language Pathology progr...</td>\n",
              "      <td>Yes, the Master of Science (M.S.) education p...</td>\n",
              "    </tr>\n",
              "  </tbody>\n",
              "</table>\n",
              "</div>\n",
              "      <button class=\"colab-df-convert\" onclick=\"convertToInteractive('df-c02abb9f-4fa3-4888-8884-a7194ac086cb')\"\n",
              "              title=\"Convert this dataframe to an interactive table.\"\n",
              "              style=\"display:none;\">\n",
              "\n",
              "  <svg xmlns=\"http://www.w3.org/2000/svg\" height=\"24px\"viewBox=\"0 0 24 24\"\n",
              "       width=\"24px\">\n",
              "    <path d=\"M0 0h24v24H0V0z\" fill=\"none\"/>\n",
              "    <path d=\"M18.56 5.44l.94 2.06.94-2.06 2.06-.94-2.06-.94-.94-2.06-.94 2.06-2.06.94zm-11 1L8.5 8.5l.94-2.06 2.06-.94-2.06-.94L8.5 2.5l-.94 2.06-2.06.94zm10 10l.94 2.06.94-2.06 2.06-.94-2.06-.94-.94-2.06-.94 2.06-2.06.94z\"/><path d=\"M17.41 7.96l-1.37-1.37c-.4-.4-.92-.59-1.43-.59-.52 0-1.04.2-1.43.59L10.3 9.45l-7.72 7.72c-.78.78-.78 2.05 0 2.83L4 21.41c.39.39.9.59 1.41.59.51 0 1.02-.2 1.41-.59l7.78-7.78 2.81-2.81c.8-.78.8-2.07 0-2.86zM5.41 20L4 18.59l7.72-7.72 1.47 1.35L5.41 20z\"/>\n",
              "  </svg>\n",
              "      </button>\n",
              "\n",
              "\n",
              "\n",
              "    <div id=\"df-8e684cbe-42ae-4327-a0fa-1b5131ce88a1\">\n",
              "      <button class=\"colab-df-quickchart\" onclick=\"quickchart('df-8e684cbe-42ae-4327-a0fa-1b5131ce88a1')\"\n",
              "              title=\"Suggest charts.\"\n",
              "              style=\"display:none;\">\n",
              "\n",
              "<svg xmlns=\"http://www.w3.org/2000/svg\" height=\"24px\"viewBox=\"0 0 24 24\"\n",
              "     width=\"24px\">\n",
              "    <g>\n",
              "        <path d=\"M19 3H5c-1.1 0-2 .9-2 2v14c0 1.1.9 2 2 2h14c1.1 0 2-.9 2-2V5c0-1.1-.9-2-2-2zM9 17H7v-7h2v7zm4 0h-2V7h2v10zm4 0h-2v-4h2v4z\"/>\n",
              "    </g>\n",
              "</svg>\n",
              "      </button>\n",
              "    </div>\n",
              "\n",
              "<style>\n",
              "  .colab-df-quickchart {\n",
              "    background-color: #E8F0FE;\n",
              "    border: none;\n",
              "    border-radius: 50%;\n",
              "    cursor: pointer;\n",
              "    display: none;\n",
              "    fill: #1967D2;\n",
              "    height: 32px;\n",
              "    padding: 0 0 0 0;\n",
              "    width: 32px;\n",
              "  }\n",
              "\n",
              "  .colab-df-quickchart:hover {\n",
              "    background-color: #E2EBFA;\n",
              "    box-shadow: 0px 1px 2px rgba(60, 64, 67, 0.3), 0px 1px 3px 1px rgba(60, 64, 67, 0.15);\n",
              "    fill: #174EA6;\n",
              "  }\n",
              "\n",
              "  [theme=dark] .colab-df-quickchart {\n",
              "    background-color: #3B4455;\n",
              "    fill: #D2E3FC;\n",
              "  }\n",
              "\n",
              "  [theme=dark] .colab-df-quickchart:hover {\n",
              "    background-color: #434B5C;\n",
              "    box-shadow: 0px 1px 3px 1px rgba(0, 0, 0, 0.15);\n",
              "    filter: drop-shadow(0px 1px 2px rgba(0, 0, 0, 0.3));\n",
              "    fill: #FFFFFF;\n",
              "  }\n",
              "</style>\n",
              "\n",
              "    <script>\n",
              "      async function quickchart(key) {\n",
              "        const containerElement = document.querySelector('#' + key);\n",
              "        const charts = await google.colab.kernel.invokeFunction(\n",
              "            'suggestCharts', [key], {});\n",
              "      }\n",
              "    </script>\n",
              "\n",
              "      <script>\n",
              "\n",
              "function displayQuickchartButton(domScope) {\n",
              "  let quickchartButtonEl =\n",
              "    domScope.querySelector('#df-8e684cbe-42ae-4327-a0fa-1b5131ce88a1 button.colab-df-quickchart');\n",
              "  quickchartButtonEl.style.display =\n",
              "    google.colab.kernel.accessAllowed ? 'block' : 'none';\n",
              "}\n",
              "\n",
              "        displayQuickchartButton(document);\n",
              "      </script>\n",
              "      <style>\n",
              "    .colab-df-container {\n",
              "      display:flex;\n",
              "      flex-wrap:wrap;\n",
              "      gap: 12px;\n",
              "    }\n",
              "\n",
              "    .colab-df-convert {\n",
              "      background-color: #E8F0FE;\n",
              "      border: none;\n",
              "      border-radius: 50%;\n",
              "      cursor: pointer;\n",
              "      display: none;\n",
              "      fill: #1967D2;\n",
              "      height: 32px;\n",
              "      padding: 0 0 0 0;\n",
              "      width: 32px;\n",
              "    }\n",
              "\n",
              "    .colab-df-convert:hover {\n",
              "      background-color: #E2EBFA;\n",
              "      box-shadow: 0px 1px 2px rgba(60, 64, 67, 0.3), 0px 1px 3px 1px rgba(60, 64, 67, 0.15);\n",
              "      fill: #174EA6;\n",
              "    }\n",
              "\n",
              "    [theme=dark] .colab-df-convert {\n",
              "      background-color: #3B4455;\n",
              "      fill: #D2E3FC;\n",
              "    }\n",
              "\n",
              "    [theme=dark] .colab-df-convert:hover {\n",
              "      background-color: #434B5C;\n",
              "      box-shadow: 0px 1px 3px 1px rgba(0, 0, 0, 0.15);\n",
              "      filter: drop-shadow(0px 1px 2px rgba(0, 0, 0, 0.3));\n",
              "      fill: #FFFFFF;\n",
              "    }\n",
              "  </style>\n",
              "\n",
              "      <script>\n",
              "        const buttonEl =\n",
              "          document.querySelector('#df-c02abb9f-4fa3-4888-8884-a7194ac086cb button.colab-df-convert');\n",
              "        buttonEl.style.display =\n",
              "          google.colab.kernel.accessAllowed ? 'block' : 'none';\n",
              "\n",
              "        async function convertToInteractive(key) {\n",
              "          const element = document.querySelector('#df-c02abb9f-4fa3-4888-8884-a7194ac086cb');\n",
              "          const dataTable =\n",
              "            await google.colab.kernel.invokeFunction('convertToInteractive',\n",
              "                                                     [key], {});\n",
              "          if (!dataTable) return;\n",
              "\n",
              "          const docLinkHtml = 'Like what you see? Visit the ' +\n",
              "            '<a target=\"_blank\" href=https://colab.research.google.com/notebooks/data_table.ipynb>data table notebook</a>'\n",
              "            + ' to learn more about interactive tables.';\n",
              "          element.innerHTML = '';\n",
              "          dataTable['output_type'] = 'display_data';\n",
              "          await google.colab.output.renderOutput(dataTable, element);\n",
              "          const docLink = document.createElement('div');\n",
              "          docLink.innerHTML = docLinkHtml;\n",
              "          element.appendChild(docLink);\n",
              "        }\n",
              "      </script>\n",
              "    </div>\n",
              "  </div>\n"
            ]
          },
          "metadata": {},
          "execution_count": 228
        }
      ]
    },
    {
      "cell_type": "code",
      "execution_count": null,
      "metadata": {
        "id": "kAzLMhMiUvki"
      },
      "outputs": [],
      "source": [
        "df.to_csv('questions_answers_cleaned_programs.csv', index=False)"
      ]
    }
  ],
  "metadata": {
    "colab": {
      "provenance": []
    },
    "kernelspec": {
      "display_name": "Python 3 (ipykernel)",
      "language": "python",
      "name": "python3"
    },
    "language_info": {
      "codemirror_mode": {
        "name": "ipython",
        "version": 3
      },
      "file_extension": ".py",
      "mimetype": "text/x-python",
      "name": "python",
      "nbconvert_exporter": "python",
      "pygments_lexer": "ipython3",
      "version": "3.9.16"
    }
  },
  "nbformat": 4,
  "nbformat_minor": 0
}