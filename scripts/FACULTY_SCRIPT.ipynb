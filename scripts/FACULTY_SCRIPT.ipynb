{
  "nbformat": 4,
  "nbformat_minor": 0,
  "metadata": {
    "colab": {
      "provenance": []
    },
    "kernelspec": {
      "name": "python3",
      "display_name": "Python 3"
    },
    "language_info": {
      "name": "python"
    }
  },
  "cells": [
    {
      "cell_type": "code",
      "execution_count": null,
      "metadata": {
        "id": "WWr_KQCoJsaR"
      },
      "outputs": [],
      "source": [
        "file_name='Katz_Faculty_details (1).txt'"
      ]
    },
    {
      "cell_type": "code",
      "source": [
        "with open(file_name,'r') as file:\n",
        "  file_content=file.read()"
      ],
      "metadata": {
        "id": "RK8VnN0wKdxI"
      },
      "execution_count": null,
      "outputs": []
    },
    {
      "cell_type": "code",
      "source": [
        "professors=file_content.split(\"-------------------------------------------\")"
      ],
      "metadata": {
        "id": "72D68i0XKu1i"
      },
      "execution_count": null,
      "outputs": []
    },
    {
      "cell_type": "code",
      "source": [
        "for prof in professors:\n",
        "  title=prof[:prof.find(',')]+'.txt'\n",
        "  with open('professors/'+title,'w') as file:\n",
        "    file.write(prof)"
      ],
      "metadata": {
        "id": "6O5Zp3LGLjUR"
      },
      "execution_count": null,
      "outputs": []
    },
    {
      "cell_type": "code",
      "source": [
        "import zipfile\n",
        "import os\n",
        "\n",
        "folder_path = \"professors\"\n",
        "\n",
        "# Zip the folder\n",
        "zip_file_path = \"professors.zip\"\n",
        "with zipfile.ZipFile(zip_file_path, 'w', zipfile.ZIP_DEFLATED) as zipf:\n",
        "    for root, dirs, files in os.walk(folder_path):\n",
        "        for file in files:\n",
        "            zipf.write(os.path.join(root, file), os.path.relpath(os.path.join(root, file), folder_path))\n",
        "\n"
      ],
      "metadata": {
        "id": "TBl83KlkQ53L"
      },
      "execution_count": 37,
      "outputs": []
    }
  ]
}