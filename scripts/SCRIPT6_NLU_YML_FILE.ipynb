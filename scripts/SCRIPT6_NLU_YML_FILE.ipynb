{
 "cells": [
  {
   "cell_type": "code",
   "execution_count": 7,
   "id": "00bfc05e",
   "metadata": {},
   "outputs": [],
   "source": [
    "# Importing libraries\n",
    "\n",
    "import pandas as pd\n",
    "pd.set_option('display.max_colwidth', None)"
   ]
  },
  {
   "cell_type": "code",
   "execution_count": 8,
   "id": "a5ae5a59",
   "metadata": {},
   "outputs": [
    {
     "data": {
      "text/html": [
       "<div>\n",
       "<style scoped>\n",
       "    .dataframe tbody tr th:only-of-type {\n",
       "        vertical-align: middle;\n",
       "    }\n",
       "\n",
       "    .dataframe tbody tr th {\n",
       "        vertical-align: top;\n",
       "    }\n",
       "\n",
       "    .dataframe thead th {\n",
       "        text-align: right;\n",
       "    }\n",
       "</style>\n",
       "<table border=\"1\" class=\"dataframe\">\n",
       "  <thead>\n",
       "    <tr style=\"text-align: right;\">\n",
       "      <th></th>\n",
       "      <th>primary_entities</th>\n",
       "      <th>secondary_entities</th>\n",
       "      <th>answer</th>\n",
       "      <th>question</th>\n",
       "      <th>unique_intents</th>\n",
       "      <th>examples</th>\n",
       "    </tr>\n",
       "  </thead>\n",
       "  <tbody>\n",
       "    <tr>\n",
       "      <th>0</th>\n",
       "      <td>admission requirements</td>\n",
       "      <td>application process</td>\n",
       "      <td>\"Please submit the following required document in order to apply:\\nTranscripts from all colleges/universities attended\\nDegree Conferral (Diploma or certificate)\\nEnglish language assessment (Duolingo: 110, TOEFL: 85 (not accepting home edition), IELTS: 6.5, and PTE: 59.)\\nResume\\nStatement of Purpose\\nGRE/GMAT scores (Physics+ Math only)\\nLetters of recommendation (Physics+ Math only)\\nAdmission page: https://www.yu.edu/katz/admissions/grad-admissions\\nhttps://www.yu.edu/sites/default/files/inline-files/FINAL%20Application%20Checklist%20for%20Graduate%20STEM%20Programs%20-%20010423_0.pdf\"</td>\n",
       "      <td>What are the admission requirements and how do I apply?</td>\n",
       "      <td>admissionrequirementsapplicationprocess</td>\n",
       "      <td>1. What are the prerequisites for admission and what is the application process?\\n2. What qualifications do I need to meet in order to apply, and how can I submit my application?\\n3. What are the criteria for admission, and what steps do I need to take to apply?\\n4. What are the necessary documents and qualifications needed for admission, and how can I apply?\\n5. What are the admission requirements, and what is the procedure for submitting an application?\\n6. What qualifications and documents are needed for admission, and what is the application procedure?\\n7. What are the prerequisites for admission, and what is the process for applying?\\n8. What are the admission criteria, and how can I go about applying?\\n9. What qualifications and documents do I need to provide for admission, and how do I apply?\\n10. What are the requirements for admission, and what steps do I need to follow to apply?</td>\n",
       "    </tr>\n",
       "    <tr>\n",
       "      <th>1</th>\n",
       "      <td>programs curriculum</td>\n",
       "      <td>research opportunities</td>\n",
       "      <td>\"Please send student program curriculum via website. (Can be found under Helpful Links under program page)\\nhttps://www.yu.edu/katz/research\\nhttps://www.yu.edu/katz/research-symposium-2023\\nhttps://www.yu.edu/katz/research-symposium-2022\"</td>\n",
       "      <td>What are the program's curriculum and research opportunities?</td>\n",
       "      <td>programscurriculumresearchopportunities</td>\n",
       "      <td>1. Can you provide information about the curriculum and research opportunities offered by the program?\\n2. What does the program's curriculum consist of and what research opportunities are available?\\n3. Could you please elaborate on the curriculum and research options provided by the program?\\n4. What kind of curriculum does the program offer and what research opportunities can students pursue?\\n5. Can you give me an overview of the program's curriculum and the research opportunities it provides?\\n6. What are the specific courses included in the program's curriculum and what research opportunities are available to students?\\n7. How does the program's curriculum align with research opportunities for students?\\n8. Are there any unique or specialized research opportunities offered within the program's curriculum?\\n9. Can you explain how the program's curriculum integrates research opportunities for students?\\n10. What resources or support does the program provide to students interested in research within the curriculum?</td>\n",
       "    </tr>\n",
       "    <tr>\n",
       "      <th>2</th>\n",
       "      <td>cost of the program</td>\n",
       "      <td>scholarships financial aid options</td>\n",
       "      <td>\"The STEM Fellows Scholarship is awarded to qualified and admitted students which reduces your tuition to $25,000 plus semesterly fees which is part of the STEM Fellows Scholarship. The additional semesterly fees that you would be responsible for can all be viewed online\\nhttps://www.yu.edu/katz/stem-fellows\"</td>\n",
       "      <td>What is the cost of the program, and are there any scholarships or financial aid options available?</td>\n",
       "      <td>costoftheprogramscholarshipsfinancialaidoptions</td>\n",
       "      <td>1. How much does the program cost?\\n2. Are there any scholarships available for the program?\\n3. Are there any financial aid options for the program?\\n4. What is the price of the program?\\n5. Are there any grants or funding opportunities for the program?\\n6. Can I apply for financial assistance for the program?\\n7. Are there any tuition discounts or waivers for the program?\\n8. How can I find out about the program's cost?\\n9. Are there any payment plans or installment options for the program?\\n10. Are there any bursaries or sponsorships available for the program?</td>\n",
       "    </tr>\n",
       "    <tr>\n",
       "      <th>3</th>\n",
       "      <td>application deadline</td>\n",
       "      <td>admission team</td>\n",
       "      <td>\"For the Fall 2023 semester, our priority deadline is June 1st however, we encourage you to complete your application sooner, so it allows enough time for visa processing.\\nAdmission page: https://www.yu.edu/katz/admissions/grad-admissions\\nhttps://www.yu.edu/sites/default/files/inline-files/FINAL%20Application%20Checklist%20for%20Graduate%20STEM%20Programs%20-%20010423_0.pdf\"</td>\n",
       "      <td>What is the application deadline, and when can I expect to hear back from the admission team?</td>\n",
       "      <td>applicationdeadlineadmissionteam</td>\n",
       "      <td>1. When is the deadline to submit my application?\\n2. What is the last date to apply for admission?\\n3. Can you please provide me with the application deadline?\\n4. When do I need to submit my application by?\\n5. What is the final date to apply for admission?\\n6. When is the cutoff for submitting applications?\\n7. By when should I complete my application?\\n8. What is the deadline for admission applications?\\n9. When is the last day to apply for admission?\\n10. Can you please let me know the application submission deadline?</td>\n",
       "    </tr>\n",
       "    <tr>\n",
       "      <th>4</th>\n",
       "      <td>acceptance rate</td>\n",
       "      <td>program</td>\n",
       "      <td>\"Some of our STEM programs do have pre-requisites that students are required to have completed prior to the program (DAV and AI). Typically, we ask students to have a minimum of a 3.0 GPA however, we do still encourage you to apply. If we need any additional documents to review your application, we would be sure to be in touch.\"</td>\n",
       "      <td>What is the acceptance rate for the program, and how competitive is it?</td>\n",
       "      <td>acceptancerateprogram</td>\n",
       "      <td>1. How difficult is it to get accepted into the program?\\n2. What is the level of competition for admission into the program?\\n3. Can you provide information on the program's acceptance rate?\\n4. How many applicants are typically accepted into the program?\\n5. Is the program highly competitive in terms of admissions?\\n6. What percentage of applicants are admitted into the program?\\n7. How selective is the program in terms of accepting students?\\n8. Are there any specific criteria or requirements for admission into the program?\\n9. How does the program's acceptance rate compare to other similar programs?\\n10. What factors contribute to the program's competitiveness in terms of admissions?</td>\n",
       "    </tr>\n",
       "  </tbody>\n",
       "</table>\n",
       "</div>"
      ],
      "text/plain": [
       "         primary_entities                  secondary_entities  \\\n",
       "0  admission requirements                 application process   \n",
       "1     programs curriculum              research opportunities   \n",
       "2     cost of the program  scholarships financial aid options   \n",
       "3    application deadline                      admission team   \n",
       "4         acceptance rate                             program   \n",
       "\n",
       "                                                                                                                                                                                                                                                                                                                                                                                                                                                                                                                                                                                                                 answer  \\\n",
       "0  \"Please submit the following required document in order to apply:\\nTranscripts from all colleges/universities attended\\nDegree Conferral (Diploma or certificate)\\nEnglish language assessment (Duolingo: 110, TOEFL: 85 (not accepting home edition), IELTS: 6.5, and PTE: 59.)\\nResume\\nStatement of Purpose\\nGRE/GMAT scores (Physics+ Math only)\\nLetters of recommendation (Physics+ Math only)\\nAdmission page: https://www.yu.edu/katz/admissions/grad-admissions\\nhttps://www.yu.edu/sites/default/files/inline-files/FINAL%20Application%20Checklist%20for%20Graduate%20STEM%20Programs%20-%20010423_0.pdf\"   \n",
       "1                                                                                                                                                                                                                                                                                                                                                                       \"Please send student program curriculum via website. (Can be found under Helpful Links under program page)\\nhttps://www.yu.edu/katz/research\\nhttps://www.yu.edu/katz/research-symposium-2023\\nhttps://www.yu.edu/katz/research-symposium-2022\"   \n",
       "2                                                                                                                                                                                                                                                                                                \"The STEM Fellows Scholarship is awarded to qualified and admitted students which reduces your tuition to $25,000 plus semesterly fees which is part of the STEM Fellows Scholarship. The additional semesterly fees that you would be responsible for can all be viewed online\\nhttps://www.yu.edu/katz/stem-fellows\"   \n",
       "3                                                                                                                                                                                                                           \"For the Fall 2023 semester, our priority deadline is June 1st however, we encourage you to complete your application sooner, so it allows enough time for visa processing.\\nAdmission page: https://www.yu.edu/katz/admissions/grad-admissions\\nhttps://www.yu.edu/sites/default/files/inline-files/FINAL%20Application%20Checklist%20for%20Graduate%20STEM%20Programs%20-%20010423_0.pdf\"   \n",
       "4                                                                                                                                                                                                                                                                            \"Some of our STEM programs do have pre-requisites that students are required to have completed prior to the program (DAV and AI). Typically, we ask students to have a minimum of a 3.0 GPA however, we do still encourage you to apply. If we need any additional documents to review your application, we would be sure to be in touch.\"   \n",
       "\n",
       "                                                                                              question  \\\n",
       "0                                              What are the admission requirements and how do I apply?   \n",
       "1                                        What are the program's curriculum and research opportunities?   \n",
       "2  What is the cost of the program, and are there any scholarships or financial aid options available?   \n",
       "3        What is the application deadline, and when can I expect to hear back from the admission team?   \n",
       "4                              What is the acceptance rate for the program, and how competitive is it?   \n",
       "\n",
       "                                    unique_intents  \\\n",
       "0          admissionrequirementsapplicationprocess   \n",
       "1          programscurriculumresearchopportunities   \n",
       "2  costoftheprogramscholarshipsfinancialaidoptions   \n",
       "3                 applicationdeadlineadmissionteam   \n",
       "4                            acceptancerateprogram   \n",
       "\n",
       "                                                                                                                                                                                                                                                                                                                                                                                                                                                                                                                                                                                                                                                                                                                                                                                                                                                                                                                                                                                                                                                                    examples  \n",
       "0                                                                                                                                      1. What are the prerequisites for admission and what is the application process?\\n2. What qualifications do I need to meet in order to apply, and how can I submit my application?\\n3. What are the criteria for admission, and what steps do I need to take to apply?\\n4. What are the necessary documents and qualifications needed for admission, and how can I apply?\\n5. What are the admission requirements, and what is the procedure for submitting an application?\\n6. What qualifications and documents are needed for admission, and what is the application procedure?\\n7. What are the prerequisites for admission, and what is the process for applying?\\n8. What are the admission criteria, and how can I go about applying?\\n9. What qualifications and documents do I need to provide for admission, and how do I apply?\\n10. What are the requirements for admission, and what steps do I need to follow to apply?  \n",
       "1  1. Can you provide information about the curriculum and research opportunities offered by the program?\\n2. What does the program's curriculum consist of and what research opportunities are available?\\n3. Could you please elaborate on the curriculum and research options provided by the program?\\n4. What kind of curriculum does the program offer and what research opportunities can students pursue?\\n5. Can you give me an overview of the program's curriculum and the research opportunities it provides?\\n6. What are the specific courses included in the program's curriculum and what research opportunities are available to students?\\n7. How does the program's curriculum align with research opportunities for students?\\n8. Are there any unique or specialized research opportunities offered within the program's curriculum?\\n9. Can you explain how the program's curriculum integrates research opportunities for students?\\n10. What resources or support does the program provide to students interested in research within the curriculum?  \n",
       "2                                                                                                                                                                                                                                                                                                                                                                                                                                                                                  1. How much does the program cost?\\n2. Are there any scholarships available for the program?\\n3. Are there any financial aid options for the program?\\n4. What is the price of the program?\\n5. Are there any grants or funding opportunities for the program?\\n6. Can I apply for financial assistance for the program?\\n7. Are there any tuition discounts or waivers for the program?\\n8. How can I find out about the program's cost?\\n9. Are there any payment plans or installment options for the program?\\n10. Are there any bursaries or sponsorships available for the program?  \n",
       "3                                                                                                                                                                                                                                                                                                                                                                                                                                                                                                                           1. When is the deadline to submit my application?\\n2. What is the last date to apply for admission?\\n3. Can you please provide me with the application deadline?\\n4. When do I need to submit my application by?\\n5. What is the final date to apply for admission?\\n6. When is the cutoff for submitting applications?\\n7. By when should I complete my application?\\n8. What is the deadline for admission applications?\\n9. When is the last day to apply for admission?\\n10. Can you please let me know the application submission deadline?  \n",
       "4                                                                                                                                                                                                                                                                                                                                                   1. How difficult is it to get accepted into the program?\\n2. What is the level of competition for admission into the program?\\n3. Can you provide information on the program's acceptance rate?\\n4. How many applicants are typically accepted into the program?\\n5. Is the program highly competitive in terms of admissions?\\n6. What percentage of applicants are admitted into the program?\\n7. How selective is the program in terms of accepting students?\\n8. Are there any specific criteria or requirements for admission into the program?\\n9. How does the program's acceptance rate compare to other similar programs?\\n10. What factors contribute to the program's competitiveness in terms of admissions?  "
      ]
     },
     "execution_count": 8,
     "metadata": {},
     "output_type": "execute_result"
    }
   ],
   "source": [
    "# Reading the master spreadsheet\n",
    "\n",
    "df = pd.read_csv(\"master_spreadsheet_with_multiple_examples_version3.csv\")\n",
    "df.head()"
   ]
  },
  {
   "cell_type": "code",
   "execution_count": 9,
   "id": "9a05ad0d",
   "metadata": {},
   "outputs": [
    {
     "data": {
      "text/plain": [
       "143"
      ]
     },
     "execution_count": 9,
     "metadata": {},
     "output_type": "execute_result"
    }
   ],
   "source": [
    "len(df)"
   ]
  },
  {
   "cell_type": "code",
   "execution_count": 10,
   "id": "db2cc503",
   "metadata": {},
   "outputs": [],
   "source": [
    "# Function to generate nlu.yml file for each row\n",
    "\n",
    "def generate_nlu_section(df):\n",
    "    nlu_content = \"\"\n",
    "    for _, row in df.iterrows():\n",
    "        question = row['question']\n",
    "        unique_intent = row['unique_intents']\n",
    "        examples = row['examples'].split('\\n')\n",
    "        \n",
    "        nlu_content += f\"- intent: {unique_intent}\\n\"\n",
    "        nlu_content += \"  examples: |\\n\"\n",
    "        \n",
    "        nlu_content += f\"    - {question}\\n\"\n",
    "        \n",
    "        for example in examples:\n",
    "            if example.strip():\n",
    "                # Remove numbering (e.g., \"1.\", \"2.\", etc.) from the examples\n",
    "                example_text = \" \".join(example.split()[1:])\n",
    "                nlu_content += f\"    - {example_text.strip()}\\n\"\n",
    "        \n",
    "        nlu_content += \"\\n\"\n",
    "    \n",
    "    return nlu_content\n",
    "\n",
    "# Generate nlu.yml content\n",
    "nlu_content = generate_nlu_section(df)\n",
    "\n",
    "# Save the nlu content to nlu.yml file\n",
    "with open(\"nlu.yml\", \"w\") as file:\n",
    "    file.write(nlu_content)"
   ]
  }
 ],
 "metadata": {
  "kernelspec": {
   "display_name": "Python 3 (ipykernel)",
   "language": "python",
   "name": "python3"
  },
  "language_info": {
   "codemirror_mode": {
    "name": "ipython",
    "version": 3
   },
   "file_extension": ".py",
   "mimetype": "text/x-python",
   "name": "python",
   "nbconvert_exporter": "python",
   "pygments_lexer": "ipython3",
   "version": "3.9.16"
  }
 },
 "nbformat": 4,
 "nbformat_minor": 5
}
