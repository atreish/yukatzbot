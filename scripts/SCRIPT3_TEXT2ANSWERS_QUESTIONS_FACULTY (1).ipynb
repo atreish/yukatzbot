{
 "cells": [
  {
   "cell_type": "code",
   "execution_count": 1,
   "metadata": {
    "id": "0UNPfXKiKnFo"
   },
   "outputs": [],
   "source": [
    "import pandas as pd\n",
    "import os\n",
    "import openai\n",
    "import requests\n",
    "import re\n",
    "\n",
    "openai.api_key = ''"
   ]
  },
  {
   "cell_type": "code",
   "execution_count": 2,
   "metadata": {
    "colab": {
     "base_uri": "https://localhost:8080/"
    },
    "id": "sFjTM2BUosjC",
    "outputId": "abe7b200-ff68-4bb0-e38b-9ec8f5c07d15"
   },
   "outputs": [],
   "source": [
    "#!pip install openai\n"
   ]
  },
  {
   "cell_type": "code",
   "execution_count": 3,
   "metadata": {
    "id": "KFDZFLAMK4O9"
   },
   "outputs": [],
   "source": [
    "def get_completion_from_messages(messages,\n",
    "                                 model=\"gpt-3.5-turbo\",\n",
    "                                 temperature=0,\n",
    "                                 max_tokens=500):\n",
    "    response = openai.ChatCompletion.create(\n",
    "        model=model,\n",
    "        messages=messages,\n",
    "        temperature=temperature,\n",
    "        max_tokens=max_tokens,\n",
    "    )\n",
    "    return response.choices[0].message[\"content\"]"
   ]
  },
  {
   "cell_type": "code",
   "execution_count": 85,
   "metadata": {
    "colab": {
     "base_uri": "https://localhost:8080/"
    },
    "id": "ytT52O-4p44E",
    "outputId": "5740931b-1a7d-4ab8-e521-002d084abe98"
   },
   "outputs": [
    {
     "name": "stdout",
     "output_type": "stream",
     "text": [
      "['ai.txt', 'bme.txt', 'faculty.txt', 'mathematics.txt', 'ot.txt', 'pas.txt', 'physics.txt', 'slp.txt']\n"
     ]
    }
   ],
   "source": [
    "\n",
    "import requests\n",
    "\n",
    "def get_github_folder_contents(github_folder_url):\n",
    "    # Extract the owner, repository, and folder path from the given URL\n",
    "    parts = github_folder_url.split('/')\n",
    "    owner = parts[3]\n",
    "    repo = parts[4]\n",
    "    folder_path = '/'.join(parts[7:])\n",
    "\n",
    "    # Make a request to the GitHub API to get the contents of the folder\n",
    "    api_url = f'https://api.github.com/repos/{owner}/{repo}/contents/{folder_path}'\n",
    "    response = requests.get(api_url)\n",
    "\n",
    "    # Check for successful response\n",
    "    if response.status_code != 200:\n",
    "        raise Exception(f\"Failed to fetch contents from GitHub. Status Code: {response.status_code}\")\n",
    "\n",
    "    # Parse the JSON response\n",
    "    folder_contents = response.json()\n",
    "\n",
    "    # Extract the file names from the response\n",
    "    file_names = [item['name'] for item in folder_contents if item['type'] == 'file']\n",
    "\n",
    "    return file_names\n",
    "\n",
    "# Example usage:\n",
    "github_folder_url = 'https://github.com/atreish/yukatzbot/tree/main/Text%20data/programs%20data'\n",
    "file_names = get_github_folder_contents(github_folder_url)[0:]\n",
    "print(file_names)\n"
   ]
  },
  {
   "cell_type": "code",
   "execution_count": 149,
   "metadata": {
    "colab": {
     "base_uri": "https://localhost:8080/",
     "height": 381
    },
    "id": "nF_Wekn8LEvF",
    "outputId": "7f9548e5-16b2-4682-d424-0f0fa51d8b6f"
   },
   "outputs": [],
   "source": [
    "unsuccessful=[]\n",
    "sentences=[]\n",
    "delimiter = \"####\"\n",
    "\n",
    "\n",
    "# Process each text file\n",
    "for file_name in file_names:\n",
    "    # Download the text file content\n",
    "    raw_file_url = f'https://github.com/atreish/yukatzbot/tree/main/Text%20data/programs%20data/{file_name}'\n",
    "    response = requests.get(raw_file_url)\n",
    "    response.raise_for_status()\n",
    "    text_content = response.text\n",
    "\n",
    "    user_message_1 = f\"\"\"\n",
    "You are provided with information of all the faculty of one program with their respective websites in text_content. \n",
    "Generate questions and corresponsing answers in the following format\n",
    "\n",
    "Who are the faculty of the artificial intelligence program?\n",
    "The faculty of artificial intelligence program are Pablo Roldan, Marian Gidea, Peter Nandori and Youshan Zhang.\n",
    "Who is Pablo Roldan?\n",
    "Pablo Roldan is the faculty of Artificial Intelligence program in Katz school. For more details, refter to the website 'https://www.yu.edu/faculty/pages/roldan-pablo'\n",
    "Marian Gidea?\n",
    "Marian Gidea is the faculty of Artificial Intelligence program in Katz school. For more details, refter to the website 'https://www.yu.edu/faculty/pages/gidea-marian'\n",
    "Who is Peter Nandori?\n",
    "Peter Nandori is the faculty of Artificial Intelligence program in Katz school. For more details, refter to the website 'https://www.yu.edu/faculty/pages/nandori-peter'\n",
    "Who is Youshan Zhang?\n",
    "Youshan Zhang is the faculty of Artificial Intelligence program in Katz school. For more details, refter to the website 'https://youshanzhang.github.io/'\n",
    "\n",
    "\"\"\"\n",
    "    messages =  [\n",
    "{'role':'system',\n",
    " 'content': text_content},\n",
    "{'role':'user',\n",
    " 'content': f\"{delimiter}{user_message_1}{delimiter}\"},\n",
    "]\n",
    "    try:\n",
    "        category_and_product_respons = get_completion_from_messages(messages)\n",
    "        sentences.extend(category_and_product_respons.split('\\n'))\n",
    "\n",
    "    except openai.OpenAIError as e:\n",
    "        # Handle the OpenAIError exception\n",
    "        unsuccessful.append(text_content)\n",
    "        # Additional error handling code if needed"
   ]
  },
  {
   "cell_type": "code",
   "execution_count": 150,
   "metadata": {
    "colab": {
     "base_uri": "https://localhost:8080/"
    },
    "id": "i5W_2j4mK-R0",
    "outputId": "a19b193e-b5ea-45af-e34a-7c535023819e"
   },
   "outputs": [
    {
     "data": {
      "text/plain": [
       "96"
      ]
     },
     "execution_count": 150,
     "metadata": {},
     "output_type": "execute_result"
    }
   ],
   "source": [
    "len(sentences)"
   ]
  },
  {
   "cell_type": "code",
   "execution_count": 151,
   "metadata": {
    "id": "HM2RAIQhP1nA"
   },
   "outputs": [],
   "source": [
    "sentences=list(filter(lambda x: x!='I can provide five questions and their corresponding answers based on the above text:',sentences))"
   ]
  },
  {
   "cell_type": "code",
   "execution_count": 152,
   "metadata": {
    "id": "epLQSCfBP5oo"
   },
   "outputs": [],
   "source": [
    "sentences=list(filter(lambda x: x!=\"I'm sorry, as an AI language model, I cannot provide a list of 10 questions and their corresponding answers without any context. Could you please provide more information or specify the questions you would like me to answer?\",sentences))"
   ]
  },
  {
   "cell_type": "code",
   "execution_count": 153,
   "metadata": {
    "id": "n2JPI34aP97_"
   },
   "outputs": [],
   "source": [
    "sentences=list(filter(lambda x: x!='',sentences))"
   ]
  },
  {
   "cell_type": "code",
   "execution_count": 154,
   "metadata": {
    "id": "O0aZoF83T6GW"
   },
   "outputs": [],
   "source": [
    "df=pd.DataFrame(columns=['question','answer'])"
   ]
  },
  {
   "cell_type": "code",
   "execution_count": 155,
   "metadata": {
    "id": "Q2bkdMePTTSQ"
   },
   "outputs": [],
   "source": [
    "for i in range(0, len(sentences), 2):\n",
    "    if i + 1 < len(sentences):\n",
    "        df.loc[len(df)] = {\n",
    "            'question': sentences[i],\n",
    "            'answer': sentences[i + 1],\n",
    "        }\n",
    "    else:\n",
    "        df.loc[len(df)] = {\n",
    "            'question': sentences[i],\n",
    "            'answer': '',\n",
    "        }"
   ]
  },
  {
   "cell_type": "code",
   "execution_count": 156,
   "metadata": {
    "id": "IoTTGTMLTI0v"
   },
   "outputs": [],
   "source": [
    "df['answer']=df['answer'].apply(lambda x: re.sub(r'Answer: ','',x))"
   ]
  },
  {
   "cell_type": "code",
   "execution_count": 157,
   "metadata": {
    "id": "xaKqEm1bVvhM"
   },
   "outputs": [],
   "source": [
    "df['question']=df['question'].apply(lambda x: re.sub(r'\\d+\\.\\s','',x))"
   ]
  },
  {
   "cell_type": "code",
   "execution_count": 158,
   "metadata": {
    "id": "VyuQbRczVzoT"
   },
   "outputs": [],
   "source": [
    "df['answer']=df['answer'].apply(lambda x: re.sub(r'^\\d+\\.\\s*','',x))"
   ]
  },
  {
   "cell_type": "code",
   "execution_count": 159,
   "metadata": {
    "colab": {
     "base_uri": "https://localhost:8080/"
    },
    "id": "RMlFUm2SS4f1",
    "outputId": "c9f52810-30c1-4202-de11-9425ee18cc85"
   },
   "outputs": [],
   "source": [
    "df['question']=df['question'].apply(lambda x: re.sub(r'Q:','',x))"
   ]
  },
  {
   "cell_type": "code",
   "execution_count": 160,
   "metadata": {
    "colab": {
     "base_uri": "https://localhost:8080/"
    },
    "id": "rDJUtkrOTZFl",
    "outputId": "fbef4776-37e0-4499-8460-dd873a94af7c"
   },
   "outputs": [],
   "source": [
    "df['answer']=df['answer'].apply(lambda x: re.sub(r'Answer:','',x))"
   ]
  },
  {
   "cell_type": "code",
   "execution_count": 163,
   "metadata": {},
   "outputs": [],
   "source": [
    "# Identify duplicate values in the 'question' column\n",
    "duplicate_mask = df.duplicated(subset=['question'], keep='first')\n",
    "\n",
    "# Keep only the unique values (first occurrence of each question)\n",
    "df_unique = df[~duplicate_mask]"
   ]
  },
  {
   "cell_type": "code",
   "execution_count": 164,
   "metadata": {
    "id": "kAzLMhMiUvki"
   },
   "outputs": [],
   "source": [
    "df_unique.to_csv('questions_answers_cleaned_faculty.csv', index=False)"
   ]
  }
 ],
 "metadata": {
  "colab": {
   "provenance": []
  },
  "kernelspec": {
   "display_name": "Python 3 (ipykernel)",
   "language": "python",
   "name": "python3"
  },
  "language_info": {
   "codemirror_mode": {
    "name": "ipython",
    "version": 3
   },
   "file_extension": ".py",
   "mimetype": "text/x-python",
   "name": "python",
   "nbconvert_exporter": "python",
   "pygments_lexer": "ipython3",
   "version": "3.9.16"
  }
 },
 "nbformat": 4,
 "nbformat_minor": 1
}
