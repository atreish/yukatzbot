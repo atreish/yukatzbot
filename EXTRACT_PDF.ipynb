{
  "nbformat": 4,
  "nbformat_minor": 0,
  "metadata": {
    "colab": {
      "provenance": []
    },
    "kernelspec": {
      "name": "python3",
      "display_name": "Python 3"
    },
    "language_info": {
      "name": "python"
    }
  },
  "cells": [
    {
      "cell_type": "code",
      "execution_count": 5,
      "metadata": {
        "id": "V4bgs4I8AUES"
      },
      "outputs": [],
      "source": [
        "import PyPDF2"
      ]
    },
    {
      "cell_type": "code",
      "source": [
        "\n",
        "def extract_text_from_pdf(pdf_path):\n",
        "    text = \"\"\n",
        "    with open(pdf_path, \"rb\") as file:\n",
        "        reader = PyPDF2.PdfReader(file)\n",
        "\n",
        "        for page_number in range(len(reader.pages)):\n",
        "            page = reader.pages[page_number]\n",
        "            text += page.extract_text()\n",
        "\n",
        "    return text"
      ],
      "metadata": {
        "id": "Oqn2rp6-ApJC"
      },
      "execution_count": 13,
      "outputs": []
    },
    {
      "cell_type": "code",
      "source": [
        "document_name='Patents_Licensing_and_IP_Policy'"
      ],
      "metadata": {
        "id": "BPESUW9ZHFbY"
      },
      "execution_count": 17,
      "outputs": []
    },
    {
      "cell_type": "code",
      "source": [
        "extracted_text=extract_text_from_pdf(document_name+'.pdf')"
      ],
      "metadata": {
        "id": "ASgMSZEQBB5w"
      },
      "execution_count": 18,
      "outputs": []
    },
    {
      "cell_type": "code",
      "source": [
        "with open(document_name+'.txt','w') as file:\n",
        "  file.write(extracted_text)\n"
      ],
      "metadata": {
        "id": "BKQDjNARC-tn"
      },
      "execution_count": 19,
      "outputs": []
    }
  ]
}